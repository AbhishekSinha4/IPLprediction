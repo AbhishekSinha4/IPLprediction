{
 "cells": [
  {
   "cell_type": "code",
   "execution_count": 2,
   "metadata": {
    "collapsed": true
   },
   "outputs": [],
   "source": [
    "import findspark\n",
    "findspark.init()"
   ]
  },
  {
   "cell_type": "code",
   "execution_count": 6,
   "metadata": {
    "collapsed": true
   },
   "outputs": [],
   "source": [
    "from pyspark.mllib.clustering import KMeans, KMeansModel\n",
    "from pyspark.sql import SparkSession\n",
    "from pyspark.ml.feature import StandardScaler\n",
    "from pyspark.ml.linalg import Vectors, VectorUDT\n",
    "from pyspark.ml.feature import VectorAssembler\n",
    "from pyspark.ml.clustering import  KMeans\n",
    "from pyspark.sql import SQLContext\n",
    "import pandas as pd\n",
    "import glob\n",
    "import yaml\n",
    "import csv\n",
    "import numpy as np"
   ]
  },
  {
   "cell_type": "code",
   "execution_count": 7,
   "metadata": {},
   "outputs": [
    {
     "name": "stdout",
     "output_type": "stream",
     "text": [
      "+------------+---+----+---+----+---+-----+---+------+---+---+---+---+---+--------------------+----+\n",
      "|      Player|Mat|Inns| NO|Runs| HS|  Ave| BF|    SR|100| 50|  0| 4s| 6s|            TeamName|Year|\n",
      "+------------+---+----+---+----+---+-----+---+------+---+---+---+---+---+--------------------+----+\n",
      "|    VR Aaron| 10|   3|  3|  35| 17|  0.0| 34|102.94|  0|  0|  0|  2|  1|Royal Challengers...|2014|\n",
      "|  MA Agarwal|  8|   8|  0| 115| 31|14.37| 91|126.37|  0|  0|  0| 12|  3|    Delhi Daredevils|2014|\n",
      "|    AN Ahmed|  4|   1|  1|   4|  4|  0.0|  1| 400.0|  0|  0|  0|  1|  0|Royal Challengers...|2014|\n",
      "| CJ Anderson| 12|  11|  2| 265| 95|29.44|181| 146.4|  0|  1|  0| 21| 15|      Mumbai Indians|2014|\n",
      "|  S Anirudha|  1|   1|  0|   3|  3|  3.0|  5|  60.0|  0|  0|  0|  0|  0| Sunrisers Hyderabad|2014|\n",
      "|Ankit Sharma|  3|   2|  0|  34| 30| 17.0| 30|113.33|  0|  0|  0|  4|  1|    Rajasthan Royals|2014|\n",
      "|    R Ashwin| 16|   6|  3|  45| 14| 15.0| 45| 100.0|  0|  0|  0|  4|  0| Chennai Super Kings|2014|\n",
      "|     P Awana|  7|   0|  0|   0|  0|  0.0|  0|   0.0|  0|  0|  0|  0|  0|     Kings XI Punjab|2014|\n",
      "|    S Badree|  4|   0|  0|   0|  0|  0.0|  0|   0.0|  0|  0|  0|  0|  0| Chennai Super Kings|2014|\n",
      "|   GJ Bailey| 17|  16|  7| 257| 40|28.55|190|135.26|  0|  0|  0| 19| 10|     Kings XI Punjab|2014|\n",
      "|    L Balaji|  9|   2|  1|   1|  1|  1.0|  3| 33.33|  0|  0|  1|  0|  0|     Kings XI Punjab|2014|\n",
      "|    R Bhatia| 12|   7|  2|  67| 23| 13.4| 53|126.41|  0|  0|  0|  4|  3|    Rajasthan Royals|2014|\n",
      "|   STR Binny| 13|  12|  2| 123| 48| 12.3|121|101.65|  0|  0|  2|  4|  5|    Rajasthan Royals|2014|\n",
      "|    MS Bisla|  1|   1|  0|   3|  3|  3.0|  9| 33.33|  0|  0|  0|  0|  0|Kolkata Knight Ri...|2014|\n",
      "|    DJ Bravo|  1|   1|  1|   8|  8|  0.0|  3|266.66|  0|  0|  0|  0|  1| Chennai Super Kings|2014|\n",
      "|   JJ Bumrah| 11|   2|  2|   1|  1|  0.0|  3| 33.33|  0|  0|  0|  0|  0|      Mumbai Indians|2014|\n",
      "|   YS Chahal| 14|   2|  2|   1|  1|  0.0|  1| 100.0|  0|  0|  0|  0|  0|Royal Challengers...|2014|\n",
      "|   UBT Chand|  1|   1|  0|   2|  2|  2.0|  9| 22.22|  0|  0|  0|  0|  0|    Rajasthan Royals|2014|\n",
      "|   PP Chawla| 11|   5|  2|  31| 17|10.33| 19|163.15|  0|  0|  2|  4|  1|Kolkata Knight Ri...|2014|\n",
      "|   KK Cooper|  5|   5|  2|  39| 32| 13.0| 26| 150.0|  0|  0|  0|  2|  3|    Rajasthan Royals|2014|\n",
      "+------------+---+----+---+----+---+-----+---+------+---+---+---+---+---+--------------------+----+\n",
      "only showing top 20 rows\n",
      "\n",
      "+--------------------+----+----+---+-----+----+------+\n",
      "|              Player|Inns|Runs| HS|  Ave|  BF|    SR|\n",
      "+--------------------+----+----+---+-----+----+------+\n",
      "|             PP Shaw|   9| 245| 65|27.22| 160|153.12|\n",
      "|             KM Asif|   1|   0|  0|  0.0|   0|   0.0|\n",
      "|    Mujeeb Ur Rahman|  14|  51| 16|  8.5|  55| 92.72|\n",
      "|JPR Scantlebury-S...|  31| 225| 29|10.71| 210|107.14|\n",
      "|     Abhishek Sharma|   3|  63| 46| 63.0|  33| 190.9|\n",
      "|        Shubman Gill|  11| 203| 57|33.83| 139|146.04|\n",
      "|            RK Singh|  29| 404| 37|17.56| 312|129.48|\n",
      "|         Shivam Mavi|   4|  13|  7| 4.33|  15| 86.66|\n",
      "|            IS Sodhi|  36| 196| 51|10.88| 179|109.49|\n",
      "|            AD Hales| 190|5174|116|29.06|3636|142.29|\n",
      "|             E Lewis| 109|3226|125|30.72|2236|144.27|\n",
      "|             MA Wood|  11|  73| 17|12.16|  82| 89.02|\n",
      "|            P Chopra|  29| 814| 99|32.56| 718|113.37|\n",
      "|         LE Plunkett|  82| 754| 41|15.38| 567|132.98|\n",
      "|            KK Ahmed|   3|   4|  3|  0.0|   6| 66.66|\n",
      "|           TK Curran|  34| 406| 51|17.65| 322|126.08|\n",
      "|   M Prasidh Krishna|   2|   1|  1|  0.0|   5|  20.0|\n",
      "|           K Gowtham|  35| 436| 60|15.57| 258|168.99|\n",
      "|          SP Goswami|  68|1562| 82|24.79|1432|109.07|\n",
      "|           DJ Willey| 124|2516|118|24.91|1764|142.63|\n",
      "+--------------------+----+----+---+-----+----+------+\n",
      "only showing top 20 rows\n",
      "\n"
     ]
    }
   ],
   "source": [
    "spark = SparkSession.builder.appName('player-clustering').getOrCreate()\n",
    "df = spark.read.options(header=\"true\",\n",
    "                               inferSchema=\"true\",\n",
    "                               nullValue=\"-\",\n",
    "                               mode=\"failfast\").csv(\"hdfs://localhost:9000/batting.csv\")\n",
    "\n",
    "df_d = spark.read.options(header=\"true\",\n",
    "                               inferSchema=\"true\",\n",
    "                               nullValue=\"-\",\n",
    "                               mode=\"failfast\").csv(\"hdfs://localhost:9000/DebutantBattingData.csv\")\n",
    "\n",
    "df_d = df_d.select('Player','Inns','Runs','HS','Ave','BF','SR')\n",
    "df.show()\n",
    "df_d.show()"
   ]
  },
  {
   "cell_type": "code",
   "execution_count": 8,
   "metadata": {
    "scrolled": true
   },
   "outputs": [
    {
     "data": {
      "text/plain": [
       "1"
      ]
     },
     "execution_count": 8,
     "metadata": {},
     "output_type": "execute_result"
    }
   ],
   "source": [
    "df.rdd.getNumPartitions()\n"
   ]
  },
  {
   "cell_type": "code",
   "execution_count": 9,
   "metadata": {
    "collapsed": true
   },
   "outputs": [],
   "source": [
    "dfBowl = spark.read.options(header=\"true\",\n",
    "                               inferSchema=\"true\",\n",
    "                               nullValue=\"-\",\n",
    "                               mode=\"failfast\").csv(\"hdfs://localhost:9000/bowling.csv\")\n",
    "\n",
    "dfBowl_d = spark.read.options(header=\"true\",\n",
    "                               inferSchema=\"true\",\n",
    "                               nullValue=\"-\",\n",
    "                               mode=\"failfast\").csv(\"hdfs://localhost:9000/DebutantBowlingData.csv\")\n",
    "\n",
    "dfBowl_d = dfBowl_d.select('Player','Inns','Runs','Wkts','Ave','Econ','SR')"
   ]
  },
  {
   "cell_type": "code",
   "execution_count": 10,
   "metadata": {},
   "outputs": [
    {
     "data": {
      "text/plain": [
       "1"
      ]
     },
     "execution_count": 10,
     "metadata": {},
     "output_type": "execute_result"
    }
   ],
   "source": [
    "dfBowl.rdd.getNumPartitions()"
   ]
  },
  {
   "cell_type": "code",
   "execution_count": 11,
   "metadata": {},
   "outputs": [
    {
     "data": {
      "text/plain": [
       "5"
      ]
     },
     "execution_count": 11,
     "metadata": {},
     "output_type": "execute_result"
    }
   ],
   "source": [
    "df5 = df.rdd.repartition(5).toDF()\n",
    "df5.rdd.getNumPartitions()"
   ]
  },
  {
   "cell_type": "code",
   "execution_count": 12,
   "metadata": {},
   "outputs": [
    {
     "data": {
      "text/plain": [
       "5"
      ]
     },
     "execution_count": 12,
     "metadata": {},
     "output_type": "execute_result"
    }
   ],
   "source": [
    "dfBowl5 = dfBowl.rdd.repartition(5).toDF()\n",
    "dfBowl5.rdd.getNumPartitions()"
   ]
  },
  {
   "cell_type": "code",
   "execution_count": 13,
   "metadata": {},
   "outputs": [
    {
     "name": "stdout",
     "output_type": "stream",
     "text": [
      "root\n",
      " |-- Player: string (nullable = true)\n",
      " |-- Mat: long (nullable = true)\n",
      " |-- Inns: long (nullable = true)\n",
      " |-- NO: long (nullable = true)\n",
      " |-- Runs: long (nullable = true)\n",
      " |-- HS: long (nullable = true)\n",
      " |-- Ave: double (nullable = true)\n",
      " |-- BF: long (nullable = true)\n",
      " |-- SR: double (nullable = true)\n",
      " |-- 100: long (nullable = true)\n",
      " |-- 50: long (nullable = true)\n",
      " |-- 0: long (nullable = true)\n",
      " |-- 4s: long (nullable = true)\n",
      " |-- 6s: long (nullable = true)\n",
      " |-- TeamName: string (nullable = true)\n",
      " |-- Year: long (nullable = true)\n",
      "\n"
     ]
    }
   ],
   "source": [
    "df5.printSchema()"
   ]
  },
  {
   "cell_type": "code",
   "execution_count": 14,
   "metadata": {},
   "outputs": [
    {
     "name": "stdout",
     "output_type": "stream",
     "text": [
      "root\n",
      " |-- Player: string (nullable = true)\n",
      " |-- Mat: double (nullable = true)\n",
      " |-- Inns: double (nullable = true)\n",
      " |-- Overs: double (nullable = true)\n",
      " |-- Mdns: double (nullable = true)\n",
      " |-- Runs: double (nullable = true)\n",
      " |-- Wkts: double (nullable = true)\n",
      " |-- BBI: string (nullable = true)\n",
      " |-- Ave: double (nullable = true)\n",
      " |-- Econ: double (nullable = true)\n",
      " |-- SR: double (nullable = true)\n",
      " |-- 4: double (nullable = true)\n",
      " |-- 5: double (nullable = true)\n",
      " |-- Ct: double (nullable = true)\n",
      " |-- St: double (nullable = true)\n",
      " |-- Year: long (nullable = true)\n",
      "\n"
     ]
    }
   ],
   "source": [
    "dfBowl5.printSchema()"
   ]
  },
  {
   "cell_type": "code",
   "execution_count": 15,
   "metadata": {},
   "outputs": [
    {
     "name": "stdout",
     "output_type": "stream",
     "text": [
      "root\n",
      " |-- Player: string (nullable = true)\n",
      " |-- Year: long (nullable = true)\n",
      " |-- Inns: long (nullable = true)\n",
      " |-- Runs: long (nullable = true)\n",
      " |-- HS: long (nullable = true)\n",
      " |-- Ave: double (nullable = true)\n",
      " |-- BF: long (nullable = true)\n",
      " |-- SR: double (nullable = true)\n",
      "\n",
      "                Player  Inns      Runs   HS        Ave    BF          SR\n",
      "0       A Ashish Reddy     8  3.207646   32  23.915000    75  160.375000\n",
      "1          A Choudhary     3  1.250000   15  25.000000    20  125.000000\n",
      "2          A Dananjaya    19  0.820225   28   7.300000    89   82.020000\n",
      "3             A Mishra    14  2.466117   13  14.750000    85   61.650000\n",
      "4              A Nehra     8  1.142857    1   0.250000     8   28.570000\n",
      "5              A Zampa     2  0.714286    5   2.500000     8   35.710000\n",
      "6             AB Dinda     4  1.333333    7   2.750000    19   33.332500\n",
      "7       AB de Villiers    52  6.350313  133  40.592500  1112  158.752500\n",
      "8             AD Hales   190  1.422992  116  29.060000  3636  142.290000\n",
      "9           AD Mathews    12  2.569801   31  18.285000   131  128.485000\n",
      "10             AD Nath     4  0.740741   12   3.330000    28   37.035000\n",
      "11          AD Russell    21  3.828117   66  21.356667   291  127.600000\n",
      "12            AF Milne     3  0.583333    5   1.750000    12   29.165000\n",
      "13            AJ Finch    41  4.847367   88  25.950000   775  121.180000\n",
      "14              AJ Tye     3  1.766667   25  26.500000    30  176.660000\n",
      "15            AM Nayar     4  0.914894   23  14.330000    47   91.480000\n",
      "16           AM Rahane    55  4.921608   91  36.607500  1406  123.035000\n",
      "17            AN Ahmed     4  6.000000    5   5.000000     6  300.000000\n",
      "18             AP Tare    19  3.425186   24   8.187500   153   85.627500\n",
      "19            AR Bawne     1  1.000000   12   0.000000    12  100.000000\n",
      "20            AR Patel    43  5.060034   44  19.357500   473  126.497500\n",
      "21          AS Rajpoot     1  0.571429    4   2.000000     7   28.570000\n",
      "22           AT Rayudu    45  5.081904   68  26.390000   836  127.042500\n",
      "23     Abhishek Sharma     3  1.909091   46  63.000000    33  190.900000\n",
      "24        Ankit Sharma     6  4.966667   30  12.250000    54  124.162500\n",
      "25          Ankit Soni     3  0.777778    7   3.500000     9   77.770000\n",
      "26       Anureet Singh     7  1.830645   15   7.000000    43   61.020000\n",
      "27          Avesh Khan     0  0.000000    0   0.000000     0    0.000000\n",
      "28       Azhar Mahmood     1  0.857143    6   6.000000     7   85.710000\n",
      "29             B Kumar    15  4.542593   21   7.290000    45  113.562500\n",
      "..                 ...   ...       ...  ...        ...   ...         ...\n",
      "260      Shivam Sharma     2  1.666667    4   2.500000     3   83.330000\n",
      "261       Shubman Gill    11  1.460432   57  33.830000   139  146.040000\n",
      "262      Swapnil Singh     3  0.631579   10   3.000000    20   31.575000\n",
      "263        T Natarajan     0  0.000000    0   0.000000     0    0.000000\n",
      "264           T Shamsi     0  0.000000    0   0.000000     0    0.000000\n",
      "265           TA Boult     1  0.625000    5   0.000000     8   20.833333\n",
      "266         TG Southee     9  6.356725   25   8.500000    35  158.915000\n",
      "267          TK Curran    34  1.260870   51  17.650000   322  126.080000\n",
      "268            TM Head    10  2.748148   75  28.600000   148  137.405000\n",
      "269           TS Mills     3  0.727273    6   2.660000    11   72.720000\n",
      "270       Tejas Baroka     0  0.000000    0   0.000000     0    0.000000\n",
      "271          UBT Chand     7  1.451138   58   7.466667    96   48.370000\n",
      "272         UT Khawaja     6  1.270000   30  21.160000   100  127.000000\n",
      "273           UT Yadav    11  5.140659   24  10.000000    36  128.515000\n",
      "274            V Kohli    56  5.271913  113  46.347500  1572  131.792500\n",
      "275           V Sehwag    25  2.623016  122  19.565000   399  131.145000\n",
      "276          V Shankar     4  1.346667   63  25.250000    75   67.330000\n",
      "277             VH Zol     2  1.115385   16  14.500000    26  111.530000\n",
      "278           VR Aaron     7  3.429412   17   2.500000    47   85.735000\n",
      "279           VS Malik     1  0.500000    1   0.000000     2   50.000000\n",
      "280       Vishnu Vinod     3  0.730769    9   6.330000    26   73.070000\n",
      "281         WD Parnell     2  1.000000    2   2.000000     2  100.000000\n",
      "282            WP Saha    49  5.242696  115  24.997500   845  131.062500\n",
      "283  Washington Sundar     5  0.750000    5   9.000000    12   75.000000\n",
      "284    Y Venugopal Rao     5  1.126984   27  23.660000    63  112.690000\n",
      "285          YK Pathan    48  5.674015   72  41.102500   759  141.845000\n",
      "286          YS Chahal    10  2.500000    4   1.082500    28   62.500000\n",
      "287        YV Takawale     5  1.142857   45  20.800000    91  114.280000\n",
      "288       Yuvraj Singh    48  5.275635   83  26.867500   844  131.887500\n",
      "289             Z Khan     9  1.912088    7   3.750000    33   47.797500\n",
      "\n",
      "[290 rows x 7 columns]\n",
      "<class 'pandas.core.frame.DataFrame'>\n",
      "<bound method DataFrame.info of                 Player  Inns      Runs   HS        Ave    BF          SR\n",
      "0       A Ashish Reddy     8  3.207646   32  23.915000    75  160.375000\n",
      "1          A Choudhary     3  1.250000   15  25.000000    20  125.000000\n",
      "2          A Dananjaya    19  0.820225   28   7.300000    89   82.020000\n",
      "3             A Mishra    14  2.466117   13  14.750000    85   61.650000\n",
      "4              A Nehra     8  1.142857    1   0.250000     8   28.570000\n",
      "5              A Zampa     2  0.714286    5   2.500000     8   35.710000\n",
      "6             AB Dinda     4  1.333333    7   2.750000    19   33.332500\n",
      "7       AB de Villiers    52  6.350313  133  40.592500  1112  158.752500\n",
      "8             AD Hales   190  1.422992  116  29.060000  3636  142.290000\n",
      "9           AD Mathews    12  2.569801   31  18.285000   131  128.485000\n",
      "10             AD Nath     4  0.740741   12   3.330000    28   37.035000\n",
      "11          AD Russell    21  3.828117   66  21.356667   291  127.600000\n",
      "12            AF Milne     3  0.583333    5   1.750000    12   29.165000\n",
      "13            AJ Finch    41  4.847367   88  25.950000   775  121.180000\n",
      "14              AJ Tye     3  1.766667   25  26.500000    30  176.660000\n",
      "15            AM Nayar     4  0.914894   23  14.330000    47   91.480000\n",
      "16           AM Rahane    55  4.921608   91  36.607500  1406  123.035000\n",
      "17            AN Ahmed     4  6.000000    5   5.000000     6  300.000000\n",
      "18             AP Tare    19  3.425186   24   8.187500   153   85.627500\n",
      "19            AR Bawne     1  1.000000   12   0.000000    12  100.000000\n",
      "20            AR Patel    43  5.060034   44  19.357500   473  126.497500\n",
      "21          AS Rajpoot     1  0.571429    4   2.000000     7   28.570000\n",
      "22           AT Rayudu    45  5.081904   68  26.390000   836  127.042500\n",
      "23     Abhishek Sharma     3  1.909091   46  63.000000    33  190.900000\n",
      "24        Ankit Sharma     6  4.966667   30  12.250000    54  124.162500\n",
      "25          Ankit Soni     3  0.777778    7   3.500000     9   77.770000\n",
      "26       Anureet Singh     7  1.830645   15   7.000000    43   61.020000\n",
      "27          Avesh Khan     0  0.000000    0   0.000000     0    0.000000\n",
      "28       Azhar Mahmood     1  0.857143    6   6.000000     7   85.710000\n",
      "29             B Kumar    15  4.542593   21   7.290000    45  113.562500\n",
      "..                 ...   ...       ...  ...        ...   ...         ...\n",
      "260      Shivam Sharma     2  1.666667    4   2.500000     3   83.330000\n",
      "261       Shubman Gill    11  1.460432   57  33.830000   139  146.040000\n",
      "262      Swapnil Singh     3  0.631579   10   3.000000    20   31.575000\n",
      "263        T Natarajan     0  0.000000    0   0.000000     0    0.000000\n",
      "264           T Shamsi     0  0.000000    0   0.000000     0    0.000000\n",
      "265           TA Boult     1  0.625000    5   0.000000     8   20.833333\n",
      "266         TG Southee     9  6.356725   25   8.500000    35  158.915000\n",
      "267          TK Curran    34  1.260870   51  17.650000   322  126.080000\n",
      "268            TM Head    10  2.748148   75  28.600000   148  137.405000\n",
      "269           TS Mills     3  0.727273    6   2.660000    11   72.720000\n",
      "270       Tejas Baroka     0  0.000000    0   0.000000     0    0.000000\n",
      "271          UBT Chand     7  1.451138   58   7.466667    96   48.370000\n",
      "272         UT Khawaja     6  1.270000   30  21.160000   100  127.000000\n",
      "273           UT Yadav    11  5.140659   24  10.000000    36  128.515000\n",
      "274            V Kohli    56  5.271913  113  46.347500  1572  131.792500\n",
      "275           V Sehwag    25  2.623016  122  19.565000   399  131.145000\n",
      "276          V Shankar     4  1.346667   63  25.250000    75   67.330000\n",
      "277             VH Zol     2  1.115385   16  14.500000    26  111.530000\n",
      "278           VR Aaron     7  3.429412   17   2.500000    47   85.735000\n",
      "279           VS Malik     1  0.500000    1   0.000000     2   50.000000\n",
      "280       Vishnu Vinod     3  0.730769    9   6.330000    26   73.070000\n",
      "281         WD Parnell     2  1.000000    2   2.000000     2  100.000000\n",
      "282            WP Saha    49  5.242696  115  24.997500   845  131.062500\n",
      "283  Washington Sundar     5  0.750000    5   9.000000    12   75.000000\n",
      "284    Y Venugopal Rao     5  1.126984   27  23.660000    63  112.690000\n",
      "285          YK Pathan    48  5.674015   72  41.102500   759  141.845000\n",
      "286          YS Chahal    10  2.500000    4   1.082500    28   62.500000\n",
      "287        YV Takawale     5  1.142857   45  20.800000    91  114.280000\n",
      "288       Yuvraj Singh    48  5.275635   83  26.867500   844  131.887500\n",
      "289             Z Khan     9  1.912088    7   3.750000    33   47.797500\n",
      "\n",
      "[290 rows x 7 columns]>\n"
     ]
    }
   ],
   "source": [
    "data = df5.select('Player','Year','Inns','Runs','HS','Ave','BF','SR')\n",
    "#data.show()\n",
    "#data2018=data[(data['Year']=='2018')]\n",
    "#datan18=data[(data['Year']!='2018')]\n",
    "data.printSchema()\n",
    "data=data[(data['Year']!='2018')].toPandas()\n",
    "data=data.drop(['Year'], axis=1)\n",
    "df_d = df_d.toPandas()\n",
    "data = data.append(df_d)\n",
    "data['Runs']=data['Runs']/data['BF']\n",
    "data = data.groupby('Player',as_index=False).agg({'Inns':sum,'Runs':sum,'HS':max,'Ave': np.mean,'BF':sum,'SR': np.mean})\n",
    "print(data)\n",
    "print(type(data))\n",
    "print(data.info)\n",
    "#data2018=data2018.toPandas()\n",
    "#datan18=datan18.toPandas()\n",
    "#print(data2018)\n",
    "#count=0\n",
    "#counts=[]\n",
    "#datan18.groupby(['Player']).count()\n",
    "\n",
    "#for i in range(len(datan18)):\n",
    "#    continue\n",
    "    \n",
    "# data2018.iloc[i]['Player']"
   ]
  },
  {
   "cell_type": "code",
   "execution_count": 16,
   "metadata": {},
   "outputs": [
    {
     "name": "stdout",
     "output_type": "stream",
     "text": [
      "                Player  Inns        Runs       Econ        Ave         SR  \\\n",
      "0       A Ashish Reddy   6.0   32.000000   9.250000  27.830000  17.500000   \n",
      "1          A Choudhary   5.0   28.800000   8.550000  28.800000  20.200000   \n",
      "2          A Dananjaya  51.0   25.725490   7.220000  23.420000  19.400000   \n",
      "3             A Mishra  50.0  108.904762   8.267500  35.942500  25.825000   \n",
      "4              A Nehra  34.0  121.270833   8.412500  21.220000  15.300000   \n",
      "5              A Zampa  11.0   50.166667   7.485000  16.430000  12.750000   \n",
      "6             AB Dinda  23.0  126.333333  10.142500  48.500000  28.450000   \n",
      "7       AB de Villiers   0.0    0.000000   0.000000   0.000000   0.000000   \n",
      "8             AD Hales   2.0    3.500000  14.000000   0.000000   0.000000   \n",
      "9           AD Mathews  12.0   52.600000   9.700000  17.570000  12.850000   \n",
      "10             AD Nath   0.0    0.000000   0.000000   0.000000   0.000000   \n",
      "11          AD Russell  27.0   75.173077   8.776667  31.513333  20.666667   \n",
      "12            AF Milne   5.0   76.500000  10.160000  43.830000  26.000000   \n",
      "13            AJ Finch   0.0    0.000000   0.000000   0.000000   0.000000   \n",
      "14              AJ Tye   6.0   23.500000   6.710000  11.750000  10.500000   \n",
      "15            AM Nayar   0.0    0.000000   0.000000   0.000000   0.000000   \n",
      "16           AM Rahane   0.0    0.000000   0.000000   0.000000   0.000000   \n",
      "17            AN Ahmed   7.0   70.916667   9.270000  82.830000  50.300000   \n",
      "18             AP Tare   0.0    0.000000   0.000000   0.000000   0.000000   \n",
      "19            AR Bawne   0.0    0.000000   0.000000   0.000000   0.000000   \n",
      "20            AR Patel  59.0  105.394958   7.545000  26.985000  21.475000   \n",
      "21          AS Rajpoot   9.0   45.900000   8.270000  29.705000  21.500000   \n",
      "22           AT Rayudu   0.0    0.000000   0.000000   0.000000   0.000000   \n",
      "23     Abhishek Sharma   0.0    0.000000   0.000000   0.000000   0.000000   \n",
      "24        Ankit Sharma  10.0   94.000000   9.285000  33.187500  26.500000   \n",
      "25          Ankit Soni   6.0   24.000000   7.920000  72.000000  54.500000   \n",
      "26       Anureet Singh  17.0   80.714286   9.720000  10.333333   6.866667   \n",
      "27          Avesh Khan   1.0   23.000000   5.750000  23.000000  24.000000   \n",
      "28       Azhar Mahmood   1.0   41.000000  13.660000   0.000000   0.000000   \n",
      "29             B Kumar  59.0  109.537815   7.247500  18.950000  15.575000   \n",
      "..                 ...   ...         ...        ...        ...        ...   \n",
      "260      Shivam Sharma   5.0   74.250000  11.110000  42.165000  25.000000   \n",
      "261       Shubman Gill   0.0    0.000000   0.000000   0.000000   0.000000   \n",
      "262      Swapnil Singh   5.0   44.250000   9.185000  30.500000  21.000000   \n",
      "263        T Natarajan   6.0   19.166667   9.070000  57.500000  38.000000   \n",
      "264           T Shamsi   4.0   36.750000   9.180000  49.000000  32.000000   \n",
      "265           TA Boult  14.0  108.714286   9.076667  36.140000  23.733333   \n",
      "266         TG Southee  24.0  122.528139   8.417500  27.427500  19.150000   \n",
      "267          TK Curran  64.0   29.343750   8.660000  26.450000  18.300000   \n",
      "268            TM Head   5.0   16.200000   5.060000  20.250000  12.000000   \n",
      "269           TS Mills   5.0   30.600000   8.570000  30.600000  21.400000   \n",
      "270       Tejas Baroka   1.0   33.000000   9.420000   0.000000   0.000000   \n",
      "271          UBT Chand   0.0    0.000000   0.000000   0.000000   0.000000   \n",
      "272         UT Khawaja   0.0    0.000000   0.000000   0.000000   0.000000   \n",
      "273           UT Yadav  47.0  117.702381   8.672500  29.767500  20.600000   \n",
      "274            V Kohli   3.0   18.000000   4.612500   0.000000   0.000000   \n",
      "275           V Sehwag   0.0    0.000000   0.000000   0.000000   0.000000   \n",
      "276          V Shankar   1.0   19.000000   9.500000   0.000000   0.000000   \n",
      "277             VH Zol   0.0    0.000000   0.000000   0.000000   0.000000   \n",
      "278           VR Aaron  29.0  120.841667   9.025000  53.615000  34.100000   \n",
      "279           VS Malik   1.0   29.000000   9.660000  29.000000  18.000000   \n",
      "280       Vishnu Vinod   0.0    0.000000   0.000000   0.000000   0.000000   \n",
      "281         WD Parnell   8.0   27.875000   7.390000  37.160000  30.100000   \n",
      "282            WP Saha   0.0    0.000000   0.000000   0.000000   0.000000   \n",
      "283  Washington Sundar  10.0   18.500000   6.160000  23.120000  22.500000   \n",
      "284    Y Venugopal Rao   2.0    8.000000   8.000000   0.000000   0.000000   \n",
      "285          YK Pathan  14.0   47.900000   8.862500  30.625000  22.500000   \n",
      "286          YS Chahal  54.0  113.675824   7.917500  23.267500  18.075000   \n",
      "287        YV Takawale   0.0    0.000000   0.000000   0.000000   0.000000   \n",
      "288       Yuvraj Singh  23.0   52.100000   8.920000  32.850000  23.300000   \n",
      "289             Z Khan  36.0  103.156926   7.120000  29.120000  24.450000   \n",
      "\n",
      "         Wkts  \n",
      "0    1.250000  \n",
      "1    1.000000  \n",
      "2    1.098039  \n",
      "3    3.092857  \n",
      "4    5.833333  \n",
      "5    3.566667  \n",
      "6    2.111111  \n",
      "7    0.000000  \n",
      "8    0.000000  \n",
      "9    0.700000  \n",
      "10   0.000000  \n",
      "11   2.826923  \n",
      "12   1.750000  \n",
      "13   0.000000  \n",
      "14   2.000000  \n",
      "15   0.000000  \n",
      "16   0.000000  \n",
      "17   1.083333  \n",
      "18   0.000000  \n",
      "19   0.000000  \n",
      "20   3.928571  \n",
      "21   1.550000  \n",
      "22   0.000000  \n",
      "23   0.000000  \n",
      "24   3.083333  \n",
      "25   0.333333  \n",
      "26   1.071429  \n",
      "27   1.000000  \n",
      "28   0.000000  \n",
      "29   5.924370  \n",
      "..        ...  \n",
      "260  1.750000  \n",
      "261  0.000000  \n",
      "262  0.250000  \n",
      "263  0.333333  \n",
      "264  0.750000  \n",
      "265  3.119048  \n",
      "266  2.675325  \n",
      "267  1.109375  \n",
      "268  0.400000  \n",
      "269  1.000000  \n",
      "270  0.000000  \n",
      "271  0.000000  \n",
      "272  0.000000  \n",
      "273  4.075397  \n",
      "274  0.000000  \n",
      "275  0.000000  \n",
      "276  0.000000  \n",
      "277  0.000000  \n",
      "278  3.616667  \n",
      "279  1.000000  \n",
      "280  0.000000  \n",
      "281  0.750000  \n",
      "282  0.000000  \n",
      "283  0.800000  \n",
      "284  0.000000  \n",
      "285  0.900000  \n",
      "286  5.192308  \n",
      "287  0.000000  \n",
      "288  1.166667  \n",
      "289  3.575758  \n",
      "\n",
      "[290 rows x 7 columns]\n",
      "<class 'pandas.core.frame.DataFrame'>\n"
     ]
    }
   ],
   "source": [
    "dataBowl = dfBowl5.select('Player','Year','Inns','Runs','Wkts','Ave','Econ','SR') \n",
    "dataBowl = dataBowl[(dataBowl['Year']!='2018')] \n",
    "dataBowl = dataBowl[(dataBowl['Year']!='2018')].toPandas()\n",
    "dataBowl = dataBowl.drop(['Year'], axis=1) \n",
    "dfBowl_d = dfBowl_d.toPandas()\n",
    "dataBowl = dataBowl.append(dfBowl_d)\n",
    "dataBowl['Runs'] = dataBowl['Runs']/dataBowl['Inns']\n",
    "dataBowl['Wkts'] = dataBowl['Wkts']/dataBowl['Inns']\n",
    "dataBowl = dataBowl.groupby('Player', as_index=False).agg({'Inns':sum,'Runs':sum,'Econ':np.mean,'Ave': np.mean,'SR': np.mean,'Wkts':sum})\n",
    "\n",
    "print(dataBowl) \n",
    "print(type(dataBowl))\n",
    "\n",
    "#dataBowl.show()"
   ]
  },
  {
   "cell_type": "code",
   "execution_count": 17,
   "metadata": {},
   "outputs": [
    {
     "name": "stdout",
     "output_type": "stream",
     "text": [
      "Player     object\n",
      "Inns        int64\n",
      "Runs      float64\n",
      "HS          int64\n",
      "Ave       float64\n",
      "BF          int64\n",
      "SR        float64\n",
      "dtype: object\n",
      "+--------------+-----+----------+-----+---------+------+--------+\n",
      "|        Player| Inns|      Runs|   HS|      Ave|    BF|      SR|\n",
      "+--------------+-----+----------+-----+---------+------+--------+\n",
      "|A Ashish Reddy|  8.0| 3.2076461| 32.0|   23.915|  75.0| 160.375|\n",
      "|   A Choudhary|  3.0|      1.25| 15.0|     25.0|  20.0|   125.0|\n",
      "|   A Dananjaya| 19.0| 0.8202247| 28.0|      7.3|  89.0|   82.02|\n",
      "|      A Mishra| 14.0| 2.4661171| 13.0|    14.75|  85.0|   61.65|\n",
      "|       A Nehra|  8.0| 1.1428572|  1.0|     0.25|   8.0|   28.57|\n",
      "|       A Zampa|  2.0|0.71428573|  5.0|      2.5|   8.0|   35.71|\n",
      "|      AB Dinda|  4.0| 1.3333334|  7.0|     2.75|  19.0| 33.3325|\n",
      "|AB de Villiers| 52.0| 6.3503127|133.0|  40.5925|1112.0|158.7525|\n",
      "|      AD Hales|190.0| 1.4229923|116.0|    29.06|3636.0|  142.29|\n",
      "|    AD Mathews| 12.0| 2.5698006| 31.0|   18.285| 131.0| 128.485|\n",
      "|       AD Nath|  4.0| 0.7407407| 12.0|     3.33|  28.0|  37.035|\n",
      "|    AD Russell| 21.0|  3.828117| 66.0|21.356667| 291.0|   127.6|\n",
      "|      AF Milne|  3.0| 0.5833333|  5.0|     1.75|  12.0|  29.165|\n",
      "|      AJ Finch| 41.0|  4.847367| 88.0|    25.95| 775.0|  121.18|\n",
      "|        AJ Tye|  3.0| 1.7666667| 25.0|     26.5|  30.0|  176.66|\n",
      "|      AM Nayar|  4.0| 0.9148936| 23.0|    14.33|  47.0|   91.48|\n",
      "|     AM Rahane| 55.0|  4.921608| 91.0|  36.6075|1406.0| 123.035|\n",
      "|      AN Ahmed|  4.0|       6.0|  5.0|      5.0|   6.0|   300.0|\n",
      "|       AP Tare| 19.0| 3.4251857| 24.0|   8.1875| 153.0| 85.6275|\n",
      "|      AR Bawne|  1.0|       1.0| 12.0|      0.0|  12.0|   100.0|\n",
      "+--------------+-----+----------+-----+---------+------+--------+\n",
      "only showing top 20 rows\n",
      "\n"
     ]
    }
   ],
   "source": [
    "from pyspark.sql.types import *\n",
    "\n",
    "print(data.dtypes)\n",
    "mySchema = StructType([StructField(\"Player\", StringType(), True), StructField(\"Inns\", LongType(), True), StructField(\"Runs\", FloatType(), True), StructField(\"HS\", LongType(), True), StructField(\"Ave\", FloatType(), True), StructField(\"BF\", LongType(), True), StructField(\"SR\", FloatType(), True)])\n",
    "data = spark.createDataFrame(data,schema=mySchema)\n",
    "features=['Inns','Runs','HS','Ave','BF','SR']\n",
    "for c in data.columns:\n",
    "    if c in features:\n",
    "        data= data.withColumn(c,data[c].cast('float'))\n",
    "data.show()"
   ]
  },
  {
   "cell_type": "code",
   "execution_count": 18,
   "metadata": {},
   "outputs": [
    {
     "name": "stdout",
     "output_type": "stream",
     "text": [
      "Player     object\n",
      "Inns      float64\n",
      "Runs      float64\n",
      "Econ      float64\n",
      "Ave       float64\n",
      "SR        float64\n",
      "Wkts      float64\n",
      "dtype: object\n",
      "+--------------+----+----------+--------+---------+---------+---------+\n",
      "|        Player|  SR|      Wkts|    Econ|     Inns|     Runs|      Ave|\n",
      "+--------------+----+----------+--------+---------+---------+---------+\n",
      "|A Ashish Reddy| 6.0|      32.0|    9.25|    27.83|     17.5|     1.25|\n",
      "|   A Choudhary| 5.0|      28.8|    8.55|     28.8|     20.2|      1.0|\n",
      "|   A Dananjaya|51.0|  25.72549|    7.22|    23.42|     19.4|1.0980393|\n",
      "|      A Mishra|50.0| 108.90476|  8.2675|  35.9425|   25.825|3.0928571|\n",
      "|       A Nehra|34.0|121.270836|  8.4125|    21.22|     15.3|5.8333335|\n",
      "|       A Zampa|11.0| 50.166668|   7.485|    16.43|    12.75|3.5666666|\n",
      "|      AB Dinda|23.0|126.333336| 10.1425|     48.5|    28.45|2.1111112|\n",
      "|AB de Villiers| 0.0|       0.0|     0.0|      0.0|      0.0|      0.0|\n",
      "|      AD Hales| 2.0|       3.5|    14.0|      0.0|      0.0|      0.0|\n",
      "|    AD Mathews|12.0|      52.6|     9.7|    17.57|    12.85|      0.7|\n",
      "|       AD Nath| 0.0|       0.0|     0.0|      0.0|      0.0|      0.0|\n",
      "|    AD Russell|27.0|  75.17308|8.776667|31.513334|20.666666|2.8269231|\n",
      "|      AF Milne| 5.0|      76.5|   10.16|    43.83|     26.0|     1.75|\n",
      "|      AJ Finch| 0.0|       0.0|     0.0|      0.0|      0.0|      0.0|\n",
      "|        AJ Tye| 6.0|      23.5|    6.71|    11.75|     10.5|      2.0|\n",
      "|      AM Nayar| 0.0|       0.0|     0.0|      0.0|      0.0|      0.0|\n",
      "|     AM Rahane| 0.0|       0.0|     0.0|      0.0|      0.0|      0.0|\n",
      "|      AN Ahmed| 7.0| 70.916664|    9.27|    82.83|     50.3|1.0833334|\n",
      "|       AP Tare| 0.0|       0.0|     0.0|      0.0|      0.0|      0.0|\n",
      "|      AR Bawne| 0.0|       0.0|     0.0|      0.0|      0.0|      0.0|\n",
      "+--------------+----+----------+--------+---------+---------+---------+\n",
      "only showing top 20 rows\n",
      "\n"
     ]
    }
   ],
   "source": [
    "print(dataBowl.dtypes)\n",
    "myBowlSchema = StructType([StructField(\"Player\", StringType(), True), StructField(\"SR\", FloatType(), True), StructField(\"Wkts\", FloatType(), True), StructField(\"Econ\", FloatType(), True), StructField(\"Inns\", FloatType(), True), StructField(\"Runs\", FloatType(), True), StructField(\"Ave\", FloatType(), True)])\n",
    "dataBowl = spark.createDataFrame(dataBowl,schema=myBowlSchema)\n",
    "\n",
    "features_ball=['Inns','Runs','Wkts','Ave','Econ','SR']\n",
    "for c in dataBowl.columns:\n",
    "    if c in features_ball:\n",
    "        dataBowl= dataBowl.withColumn(c,dataBowl[c].cast('float'))\n",
    "dataBowl.show()"
   ]
  },
  {
   "cell_type": "code",
   "execution_count": 19,
   "metadata": {},
   "outputs": [
    {
     "name": "stdout",
     "output_type": "stream",
     "text": [
      "+--------------+--------------------+\n",
      "|        Player|            features|\n",
      "+--------------+--------------------+\n",
      "|A Ashish Reddy|[3.20764613151550...|\n",
      "|   A Choudhary|[1.25,15.0,25.0,2...|\n",
      "|   A Dananjaya|[0.82022470235824...|\n",
      "|      A Mishra|[2.46611714363098...|\n",
      "|       A Nehra|[1.14285719394683...|\n",
      "|       A Zampa|[0.71428573131561...|\n",
      "|      AB Dinda|[1.33333337306976...|\n",
      "|AB de Villiers|[6.35031270980835...|\n",
      "|      AD Hales|[1.42299234867095...|\n",
      "|    AD Mathews|[2.56980061531066...|\n",
      "|       AD Nath|[0.74074071645736...|\n",
      "|    AD Russell|[3.82811689376831...|\n",
      "|      AF Milne|[0.58333331346511...|\n",
      "|      AJ Finch|[4.84736680984497...|\n",
      "|        AJ Tye|[1.76666665077209...|\n",
      "|      AM Nayar|[0.91489362716674...|\n",
      "|     AM Rahane|[4.92160797119140...|\n",
      "|      AN Ahmed|[6.0,5.0,5.0,6.0,...|\n",
      "|       AP Tare|[3.42518568038940...|\n",
      "|      AR Bawne|[1.0,12.0,0.0,12....|\n",
      "+--------------+--------------------+\n",
      "only showing top 20 rows\n",
      "\n"
     ]
    }
   ],
   "source": [
    "features=['Runs','HS','Ave','BF','SR']\n",
    "vec = VectorAssembler(inputCols=features, outputCol=\"features\")\n",
    "df_clus = vec.transform(data).select('Player','features')\n",
    "df_clus.show()"
   ]
  },
  {
   "cell_type": "code",
   "execution_count": 20,
   "metadata": {
    "scrolled": true
   },
   "outputs": [
    {
     "name": "stdout",
     "output_type": "stream",
     "text": [
      "+--------------+--------------------+\n",
      "|        Player|       features_ball|\n",
      "+--------------+--------------------+\n",
      "|A Ashish Reddy|[17.5,32.0,1.25,9...|\n",
      "|   A Choudhary|[20.2000007629394...|\n",
      "|   A Dananjaya|[19.3999996185302...|\n",
      "|      A Mishra|[25.8250007629394...|\n",
      "|       A Nehra|[15.3000001907348...|\n",
      "|       A Zampa|[12.75,50.1666679...|\n",
      "|      AB Dinda|[28.4500007629394...|\n",
      "|AB de Villiers|           (5,[],[])|\n",
      "|      AD Hales|[0.0,3.5,0.0,14.0...|\n",
      "|    AD Mathews|[12.8500003814697...|\n",
      "|       AD Nath|           (5,[],[])|\n",
      "|    AD Russell|[20.6666660308837...|\n",
      "|      AF Milne|[26.0,76.5,1.75,1...|\n",
      "|      AJ Finch|           (5,[],[])|\n",
      "|        AJ Tye|[10.5,23.5,2.0,6....|\n",
      "|      AM Nayar|           (5,[],[])|\n",
      "|     AM Rahane|           (5,[],[])|\n",
      "|      AN Ahmed|[50.2999992370605...|\n",
      "|       AP Tare|           (5,[],[])|\n",
      "|      AR Bawne|           (5,[],[])|\n",
      "+--------------+--------------------+\n",
      "only showing top 20 rows\n",
      "\n"
     ]
    }
   ],
   "source": [
    "features_ball=['Runs','Wkts','Ave','Econ','SR']\n",
    "vec_ball = VectorAssembler(inputCols=features_ball, outputCol=\"features_ball\")\n",
    "df_clus_ball = vec_ball.transform(dataBowl).select('Player','features_ball')\n",
    "df_clus_ball.show()"
   ]
  },
  {
   "cell_type": "code",
   "execution_count": 21,
   "metadata": {
    "collapsed": true
   },
   "outputs": [],
   "source": [
    "error = np.zeros(15)\n",
    "for k in range(2,15):\n",
    "    kmeans = KMeans().setK(k).setSeed(1).setFeaturesCol(\"features\")\n",
    "    model = kmeans.fit(df_clus.sample(False,0.25, seed=1))\n",
    "    error[k] = model.computeCost(df_clus) "
   ]
  },
  {
   "cell_type": "code",
   "execution_count": 22,
   "metadata": {
    "collapsed": true
   },
   "outputs": [],
   "source": [
    "errorBowl = np.zeros(15)\n",
    "for k in range(2,15):\n",
    "    kmeans_ball = KMeans().setK(k).setSeed(1).setFeaturesCol(\"features_ball\")\n",
    "    model_ball = kmeans_ball.fit(df_clus_ball.sample(False,0.25, seed=1))\n",
    "    errorBowl[k] = model_ball.computeCost(df_clus_ball) "
   ]
  },
  {
   "cell_type": "code",
   "execution_count": 23,
   "metadata": {
    "scrolled": true
   },
   "outputs": [
    {
     "name": "stdout",
     "output_type": "stream",
     "text": [
      "[       0.                0.         41857359.74339804 11370377.03201301\n",
      "  7069016.3911489   3460158.36387041  2643884.32925348  2288409.19786205\n",
      "  1965506.22073869  1615081.36619433  1494146.89543021  1350889.43868891\n",
      "  1169300.42572418  1005513.99321381   878340.03289843]\n"
     ]
    },
    {
     "data": {
      "image/png": "[encoded data removed]",
      "text/plain": [
       "<matplotlib.figure.Figure at 0x10f5c52b0>"
      ]
     },
     "metadata": {},
     "output_type": "display_data"
    }
   ],
   "source": [
    "%matplotlib inline\n",
    "import matplotlib.pyplot as plt\n",
    "plt.style.use('seaborn-whitegrid')\n",
    "fig = plt.figure()\n",
    "ax = plt.axes()\n",
    "\n",
    "ax.plot(range(2,15),error[2:15])\n",
    "print(error)"
   ]
  },
  {
   "cell_type": "code",
   "execution_count": 24,
   "metadata": {},
   "outputs": [
    {
     "name": "stdout",
     "output_type": "stream",
     "text": [
      "[     0.              0.         270726.31187917 209472.33379253\n",
      " 141311.98263485 116228.71932185  75997.24174308  70662.06013074\n",
      "  59233.0904738   48970.93767417  47050.10523075  46878.37932801\n",
      "  37061.73402526  42802.334503    42798.67084163]\n"
     ]
    },
    {
     "data": {
      "image/png": "[encoded data removed]",
      "text/plain": [
       "<matplotlib.figure.Figure at 0x10f5d5ac8>"
      ]
     },
     "metadata": {},
     "output_type": "display_data"
    }
   ],
   "source": [
    "plt.style.use('seaborn-whitegrid')\n",
    "fig_bowl = plt.figure()\n",
    "ax_bowl = plt.axes()\n",
    "\n",
    "ax_bowl.plot(range(2,15),errorBowl[2:15])\n",
    "print(errorBowl)"
   ]
  },
  {
   "cell_type": "code",
   "execution_count": 25,
   "metadata": {},
   "outputs": [
    {
     "name": "stdout",
     "output_type": "stream",
     "text": [
      "Centers: \n",
      "1 :  [ 1.53070586 16.76        8.74507085 39.685      80.53724171]\n",
      "2 :  [  4.70636603  90.17647059  30.67723022 967.11764706 130.57048977]\n",
      "3 :  [   2.8031128   118.83333333   34.54083347 2144.83333333  140.58416748]\n",
      "4 :  [  3.41573001  69.02        23.97846657 360.14       129.26141678]\n"
     ]
    }
   ],
   "source": [
    "k = 4\n",
    "kmeans = KMeans().setK(k).setSeed(1).setFeaturesCol(\"features\")\n",
    "model = kmeans.fit(df_clus)\n",
    "centers = model.clusterCenters()\n",
    "\n",
    "print(\"Centers: \")\n",
    "for i in range(len(centers)):\n",
    "    print(i+1,\": \",centers[i])"
   ]
  },
  {
   "cell_type": "code",
   "execution_count": 26,
   "metadata": {},
   "outputs": [
    {
     "name": "stdout",
     "output_type": "stream",
     "text": [
      "Centers: \n",
      "1 :  [24.30606056 63.98546829  1.81156256  8.84480302 15.87272727]\n",
      "2 :  [0.07446809 1.58510638 0.01595745 1.01958333 0.24468085]\n",
      "3 :  [ 23.22333338 108.80508287   3.39117235   8.63044443  34.24444444]\n",
      "4 :  [ 18.97999992  25.93037338   1.06053593   7.84000015 122.2       ]\n",
      "5 :  [23.0851648  28.76062888  0.83621652  8.49619962 10.05494505]\n"
     ]
    }
   ],
   "source": [
    "k = 5\n",
    "kmeans_ball = KMeans().setK(k).setSeed(1).setFeaturesCol(\"features_ball\")\n",
    "model_ball = kmeans_ball.fit(df_clus_ball)\n",
    "centers_ball = model_ball.clusterCenters()\n",
    "\n",
    "print(\"Centers: \")\n",
    "for i in range(len(centers_ball)):\n",
    "    print(i+1,\": \",centers_ball[i])"
   ]
  },
  {
   "cell_type": "code",
   "execution_count": 27,
   "metadata": {},
   "outputs": [
    {
     "data": {
      "text/html": [
       "<div>\n",
       "<style scoped>\n",
       "    .dataframe tbody tr th:only-of-type {\n",
       "        vertical-align: middle;\n",
       "    }\n",
       "\n",
       "    .dataframe tbody tr th {\n",
       "        vertical-align: top;\n",
       "    }\n",
       "\n",
       "    .dataframe thead th {\n",
       "        text-align: right;\n",
       "    }\n",
       "</style>\n",
       "<table border=\"1\" class=\"dataframe\">\n",
       "  <thead>\n",
       "    <tr style=\"text-align: right;\">\n",
       "      <th></th>\n",
       "      <th>Player</th>\n",
       "      <th>Features</th>\n",
       "      <th>Cluster</th>\n",
       "    </tr>\n",
       "  </thead>\n",
       "  <tbody>\n",
       "    <tr>\n",
       "      <th>0</th>\n",
       "      <td>A Ashish Reddy</td>\n",
       "      <td>[3.207646131515503, 32.0, 23.915000915527344, ...</td>\n",
       "      <td>0</td>\n",
       "    </tr>\n",
       "    <tr>\n",
       "      <th>1</th>\n",
       "      <td>A Choudhary</td>\n",
       "      <td>[1.25, 15.0, 25.0, 20.0, 125.0]</td>\n",
       "      <td>0</td>\n",
       "    </tr>\n",
       "    <tr>\n",
       "      <th>2</th>\n",
       "      <td>A Dananjaya</td>\n",
       "      <td>[0.8202247023582458, 28.0, 7.300000190734863, ...</td>\n",
       "      <td>0</td>\n",
       "    </tr>\n",
       "    <tr>\n",
       "      <th>3</th>\n",
       "      <td>A Mishra</td>\n",
       "      <td>[2.4661171436309814, 13.0, 14.75, 85.0, 61.650...</td>\n",
       "      <td>0</td>\n",
       "    </tr>\n",
       "    <tr>\n",
       "      <th>4</th>\n",
       "      <td>A Nehra</td>\n",
       "      <td>[1.1428571939468384, 1.0, 0.25, 8.0, 28.569999...</td>\n",
       "      <td>0</td>\n",
       "    </tr>\n",
       "  </tbody>\n",
       "</table>\n",
       "</div>"
      ],
      "text/plain": [
       "           Player                                           Features  Cluster\n",
       "0  A Ashish Reddy  [3.207646131515503, 32.0, 23.915000915527344, ...        0\n",
       "1     A Choudhary                    [1.25, 15.0, 25.0, 20.0, 125.0]        0\n",
       "2     A Dananjaya  [0.8202247023582458, 28.0, 7.300000190734863, ...        0\n",
       "3        A Mishra  [2.4661171436309814, 13.0, 14.75, 85.0, 61.650...        0\n",
       "4         A Nehra  [1.1428571939468384, 1.0, 0.25, 8.0, 28.569999...        0"
      ]
     },
     "execution_count": 27,
     "metadata": {},
     "output_type": "execute_result"
    }
   ],
   "source": [
    "bat_preds = model.transform(df_clus).select('Player','features','prediction')\n",
    "bat_r = bat_preds.collect()\n",
    "bat = pd.DataFrame(bat_r)\n",
    "bat.columns = ['Player', 'Features', 'Cluster']\n",
    "bat.head()"
   ]
  },
  {
   "cell_type": "code",
   "execution_count": 28,
   "metadata": {},
   "outputs": [
    {
     "data": {
      "text/html": [
       "<div>\n",
       "<style scoped>\n",
       "    .dataframe tbody tr th:only-of-type {\n",
       "        vertical-align: middle;\n",
       "    }\n",
       "\n",
       "    .dataframe tbody tr th {\n",
       "        vertical-align: top;\n",
       "    }\n",
       "\n",
       "    .dataframe thead th {\n",
       "        text-align: right;\n",
       "    }\n",
       "</style>\n",
       "<table border=\"1\" class=\"dataframe\">\n",
       "  <thead>\n",
       "    <tr style=\"text-align: right;\">\n",
       "      <th></th>\n",
       "      <th>Player</th>\n",
       "      <th>Features</th>\n",
       "      <th>Cluster</th>\n",
       "    </tr>\n",
       "  </thead>\n",
       "  <tbody>\n",
       "    <tr>\n",
       "      <th>0</th>\n",
       "      <td>A Ashish Reddy</td>\n",
       "      <td>[17.5, 32.0, 1.25, 9.25, 6.0]</td>\n",
       "      <td>4</td>\n",
       "    </tr>\n",
       "    <tr>\n",
       "      <th>1</th>\n",
       "      <td>A Choudhary</td>\n",
       "      <td>[20.200000762939453, 28.799999237060547, 1.0, ...</td>\n",
       "      <td>4</td>\n",
       "    </tr>\n",
       "    <tr>\n",
       "      <th>2</th>\n",
       "      <td>A Dananjaya</td>\n",
       "      <td>[19.399999618530273, 25.72549057006836, 1.0980...</td>\n",
       "      <td>4</td>\n",
       "    </tr>\n",
       "    <tr>\n",
       "      <th>3</th>\n",
       "      <td>A Mishra</td>\n",
       "      <td>[25.825000762939453, 108.9047622680664, 3.0928...</td>\n",
       "      <td>2</td>\n",
       "    </tr>\n",
       "    <tr>\n",
       "      <th>4</th>\n",
       "      <td>A Nehra</td>\n",
       "      <td>[15.300000190734863, 121.27083587646484, 5.833...</td>\n",
       "      <td>2</td>\n",
       "    </tr>\n",
       "  </tbody>\n",
       "</table>\n",
       "</div>"
      ],
      "text/plain": [
       "           Player                                           Features  Cluster\n",
       "0  A Ashish Reddy                      [17.5, 32.0, 1.25, 9.25, 6.0]        4\n",
       "1     A Choudhary  [20.200000762939453, 28.799999237060547, 1.0, ...        4\n",
       "2     A Dananjaya  [19.399999618530273, 25.72549057006836, 1.0980...        4\n",
       "3        A Mishra  [25.825000762939453, 108.9047622680664, 3.0928...        2\n",
       "4         A Nehra  [15.300000190734863, 121.27083587646484, 5.833...        2"
      ]
     },
     "execution_count": 28,
     "metadata": {},
     "output_type": "execute_result"
    }
   ],
   "source": [
    "ball_preds = model_ball.transform(df_clus_ball).select('Player','features_ball','prediction')\n",
    "ball_r = ball_preds.collect()\n",
    "ball = pd.DataFrame(ball_r)\n",
    "ball.columns = ['Player', 'Features', 'Cluster']\n",
    "ball.head()"
   ]
  },
  {
   "cell_type": "code",
   "execution_count": 25,
   "metadata": {},
   "outputs": [
    {
     "data": {
      "text/plain": [
       "Cluster\n",
       "0    200\n",
       "1     34\n",
       "2      6\n",
       "3     50\n",
       "dtype: int64"
      ]
     },
     "execution_count": 25,
     "metadata": {},
     "output_type": "execute_result"
    }
   ],
   "source": [
    "bat.groupby(['Cluster']).size()"
   ]
  },
  {
   "cell_type": "code",
   "execution_count": 26,
   "metadata": {},
   "outputs": [
    {
     "data": {
      "text/plain": [
       "Cluster\n",
       "0    55\n",
       "1    94\n",
       "2    45\n",
       "3     5\n",
       "4    91\n",
       "dtype: int64"
      ]
     },
     "execution_count": 26,
     "metadata": {},
     "output_type": "execute_result"
    }
   ],
   "source": [
    "ball.groupby(['Cluster']).size()"
   ]
  },
  {
   "cell_type": "markdown",
   "metadata": {},
   "source": [
    "<h1>Phase 2"
   ]
  },
  {
   "cell_type": "code",
   "execution_count": 27,
   "metadata": {},
   "outputs": [
    {
     "name": "stdout",
     "output_type": "stream",
     "text": [
      "root\n",
      " |-- batsman: string (nullable = true)\n",
      " |-- bowler: string (nullable = true)\n",
      " |-- runs_by_batsman: long (nullable = true)\n",
      " |-- wicket: boolean (nullable = true)\n",
      " |-- same_player_out: boolean (nullable = true)\n",
      " |-- extra: boolean (nullable = true)\n",
      "\n"
     ]
    }
   ],
   "source": [
    "ipl = spark.read.options(header=\"true\",\n",
    "                               inferSchema=\"true\",\n",
    "                               nullValue=\"-\",\n",
    "                               mode=\"failfast\").csv(\"hdfs://localhost:9000/ball_data.csv\")\n",
    "\n",
    "ipl5 = ipl.rdd.repartition(5).toDF()\n",
    "ipl5.rdd.getNumPartitions()\n",
    "ipl5.printSchema()\n",
    "\n",
    "#ipl5.head()"
   ]
  },
  {
   "cell_type": "code",
   "execution_count": 28,
   "metadata": {},
   "outputs": [
    {
     "name": "stdout",
     "output_type": "stream",
     "text": [
      "+----------+---------+---------------+------+---------------+-----+\n",
      "|   batsman|   bowler|runs_by_batsman|wicket|same_player_out|extra|\n",
      "+----------+---------+---------------+------+---------------+-----+\n",
      "| MK Pandey|IK Pathan|              0|  null|           null| null|\n",
      "| MK Pandey|IK Pathan|              6|  null|           null| null|\n",
      "| MK Pandey|IK Pathan|              0|  null|           null| true|\n",
      "| MK Pandey| S Nadeem|              1|  null|           null| null|\n",
      "|  AJ Finch| S Nadeem|              0|  null|           null| null|\n",
      "|  AJ Finch| S Nadeem|              2|  null|           null| null|\n",
      "|  AJ Finch| S Nadeem|              1|  null|           null| null|\n",
      "| MK Pandey| S Nadeem|              1|  null|           null| null|\n",
      "|  AJ Finch| S Nadeem|              1|  null|           null| null|\n",
      "|  AJ Finch| UT Yadav|              6|  null|           null| null|\n",
      "| LJ Wright| S Nadeem|              1|  null|           null| null|\n",
      "|AD Mathews| S Nadeem|              1|  null|           null| null|\n",
      "|AD Mathews| M Morkel|              6|  null|           null| null|\n",
      "|AD Mathews| M Morkel|              1|  null|           null| null|\n",
      "| LJ Wright| M Morkel|              1|  null|           null| null|\n",
      "|AD Mathews| M Morkel|              1|  null|           null| null|\n",
      "| LJ Wright| M Morkel|              4|  null|           null| null|\n",
      "| LJ Wright| M Morkel|              1|  null|           null| null|\n",
      "| LJ Wright| UT Yadav|              1|  null|           null| null|\n",
      "|AD Mathews| UT Yadav|              1|  null|           null| null|\n",
      "+----------+---------+---------------+------+---------------+-----+\n",
      "only showing top 20 rows\n",
      "\n"
     ]
    },
    {
     "data": {
      "text/plain": [
       "pyspark.sql.dataframe.DataFrame"
      ]
     },
     "execution_count": 28,
     "metadata": {},
     "output_type": "execute_result"
    }
   ],
   "source": [
    "ipl_data = ipl5.select('batsman','bowler','runs_by_batsman','wicket','same_player_out','extra')\n",
    "ipl_data.show()\n",
    "type(ipl_data)"
   ]
  },
  {
   "cell_type": "code",
   "execution_count": 29,
   "metadata": {},
   "outputs": [
    {
     "data": {
      "text/html": [
       "<div>\n",
       "<style scoped>\n",
       "    .dataframe tbody tr th:only-of-type {\n",
       "        vertical-align: middle;\n",
       "    }\n",
       "\n",
       "    .dataframe tbody tr th {\n",
       "        vertical-align: top;\n",
       "    }\n",
       "\n",
       "    .dataframe thead th {\n",
       "        text-align: right;\n",
       "    }\n",
       "</style>\n",
       "<table border=\"1\" class=\"dataframe\">\n",
       "  <thead>\n",
       "    <tr style=\"text-align: right;\">\n",
       "      <th></th>\n",
       "      <th>batsman</th>\n",
       "      <th>bowler</th>\n",
       "      <th>runs</th>\n",
       "      <th>wicket</th>\n",
       "    </tr>\n",
       "  </thead>\n",
       "  <tbody>\n",
       "    <tr>\n",
       "      <th>0</th>\n",
       "      <td>MK Pandey</td>\n",
       "      <td>IK Pathan</td>\n",
       "      <td>0</td>\n",
       "      <td>None</td>\n",
       "    </tr>\n",
       "    <tr>\n",
       "      <th>1</th>\n",
       "      <td>MK Pandey</td>\n",
       "      <td>IK Pathan</td>\n",
       "      <td>6</td>\n",
       "      <td>None</td>\n",
       "    </tr>\n",
       "    <tr>\n",
       "      <th>2</th>\n",
       "      <td>MK Pandey</td>\n",
       "      <td>IK Pathan</td>\n",
       "      <td>0</td>\n",
       "      <td>None</td>\n",
       "    </tr>\n",
       "    <tr>\n",
       "      <th>3</th>\n",
       "      <td>MK Pandey</td>\n",
       "      <td>S Nadeem</td>\n",
       "      <td>1</td>\n",
       "      <td>None</td>\n",
       "    </tr>\n",
       "    <tr>\n",
       "      <th>4</th>\n",
       "      <td>AJ Finch</td>\n",
       "      <td>S Nadeem</td>\n",
       "      <td>0</td>\n",
       "      <td>None</td>\n",
       "    </tr>\n",
       "  </tbody>\n",
       "</table>\n",
       "</div>"
      ],
      "text/plain": [
       "     batsman     bowler  runs wicket\n",
       "0  MK Pandey  IK Pathan     0   None\n",
       "1  MK Pandey  IK Pathan     6   None\n",
       "2  MK Pandey  IK Pathan     0   None\n",
       "3  MK Pandey   S Nadeem     1   None\n",
       "4   AJ Finch   S Nadeem     0   None"
      ]
     },
     "execution_count": 29,
     "metadata": {},
     "output_type": "execute_result"
    }
   ],
   "source": [
    "ipl_pd = ipl_data.toPandas()\n",
    "ipl_pd.head()\n",
    "\n",
    "ipl_pd = ipl_pd.drop(['same_player_out','extra'], axis=1)\n",
    "ipl_pd.columns = ['batsman','bowler','runs','wicket']\n",
    "ipl_pd.head()"
   ]
  },
  {
   "cell_type": "code",
   "execution_count": 30,
   "metadata": {
    "scrolled": true
   },
   "outputs": [
    {
     "data": {
      "text/html": [
       "<div>\n",
       "<style scoped>\n",
       "    .dataframe tbody tr th:only-of-type {\n",
       "        vertical-align: middle;\n",
       "    }\n",
       "\n",
       "    .dataframe tbody tr th {\n",
       "        vertical-align: top;\n",
       "    }\n",
       "\n",
       "    .dataframe thead th {\n",
       "        text-align: right;\n",
       "    }\n",
       "</style>\n",
       "<table border=\"1\" class=\"dataframe\">\n",
       "  <thead>\n",
       "    <tr style=\"text-align: right;\">\n",
       "      <th></th>\n",
       "      <th></th>\n",
       "      <th>runs</th>\n",
       "    </tr>\n",
       "    <tr>\n",
       "      <th>batsman</th>\n",
       "      <th>bowler</th>\n",
       "      <th></th>\n",
       "    </tr>\n",
       "  </thead>\n",
       "  <tbody>\n",
       "    <tr>\n",
       "      <th rowspan=\"5\" valign=\"top\">A Ashish Reddy</th>\n",
       "      <th>A Nehra</th>\n",
       "      <td>9</td>\n",
       "    </tr>\n",
       "    <tr>\n",
       "      <th>AB Dinda</th>\n",
       "      <td>7</td>\n",
       "    </tr>\n",
       "    <tr>\n",
       "      <th>AD Mathews</th>\n",
       "      <td>12</td>\n",
       "    </tr>\n",
       "    <tr>\n",
       "      <th>AD Russell</th>\n",
       "      <td>3</td>\n",
       "    </tr>\n",
       "    <tr>\n",
       "      <th>Anureet Singh</th>\n",
       "      <td>2</td>\n",
       "    </tr>\n",
       "  </tbody>\n",
       "</table>\n",
       "</div>"
      ],
      "text/plain": [
       "                              runs\n",
       "batsman        bowler             \n",
       "A Ashish Reddy A Nehra           9\n",
       "               AB Dinda          7\n",
       "               AD Mathews       12\n",
       "               AD Russell        3\n",
       "               Anureet Singh     2"
      ]
     },
     "execution_count": 30,
     "metadata": {},
     "output_type": "execute_result"
    }
   ],
   "source": [
    "ipl_group = ipl_pd.groupby(['batsman','bowler'])\n",
    "summary = ipl_group.agg({'runs':lambda x:(x==0).count()})\n",
    "summary.head()"
   ]
  },
  {
   "cell_type": "code",
   "execution_count": 31,
   "metadata": {
    "collapsed": true
   },
   "outputs": [],
   "source": [
    "ipl_group2 = ipl_pd.groupby(['batsman','bowler'])\n",
    "x0 = ipl_group2['runs'].apply(lambda x: x[x == 0].count()).to_frame().reset_index()\n",
    "x1 = ipl_group2['runs'].apply(lambda x: x[x == 1].count()).to_frame().reset_index()\n",
    "x2 = ipl_group2['runs'].apply(lambda x: x[x == 2].count()).to_frame().reset_index()\n",
    "x3 = ipl_group2['runs'].apply(lambda x: x[x == 3].count()).to_frame().reset_index()\n",
    "x4 = ipl_group2['runs'].apply(lambda x: x[x == 4].count()).to_frame().reset_index()\n",
    "x6 = ipl_group2['runs'].apply(lambda x: x[x == 6].count()).to_frame().reset_index()\n",
    "xw = ipl_group2['wicket'].apply(lambda x: x[x == True].count()).to_frame().reset_index()\n",
    "xb = ipl_group2['runs'].apply(lambda x: x.count()).to_frame().reset_index()"
   ]
  },
  {
   "cell_type": "code",
   "execution_count": 32,
   "metadata": {},
   "outputs": [
    {
     "name": "stdout",
     "output_type": "stream",
     "text": [
      "              batsman            bowler  0  1  2  3  4  6  wickets  balls\n",
      "0      A Ashish Reddy           A Nehra  5  3  0  0  1  0        1      9\n",
      "1      A Ashish Reddy          AB Dinda  1  5  0  0  1  0        0      7\n",
      "2      A Ashish Reddy        AD Mathews  2  5  2  0  1  2        0     12\n",
      "3      A Ashish Reddy        AD Russell  0  2  1  0  0  0        0      3\n",
      "4      A Ashish Reddy     Anureet Singh  0  2  0  0  0  0        0      2\n",
      "5      A Ashish Reddy     Azhar Mahmood  1  2  0  0  0  0        0      3\n",
      "6      A Ashish Reddy           B Kumar  0  1  0  0  0  0        0      1\n",
      "7      A Ashish Reddy     BW Hilfenhaus  1  0  1  0  0  0        1      2\n",
      "8      A Ashish Reddy         CH Morris  1  2  0  1  0  1        0      5\n",
      "9      A Ashish Reddy          DJ Bravo  4  4  1  0  3  1        1     13\n",
      "10     A Ashish Reddy   Harbhajan Singh  3  3  1  0  0  1        0      8\n",
      "11     A Ashish Reddy       Imran Tahir  0  2  0  0  0  0        0      2\n",
      "12     A Ashish Reddy           J Botha  2  0  0  0  0  0        0      2\n",
      "13     A Ashish Reddy      JEC Franklin  1  1  1  0  0  0        0      3\n",
      "14     A Ashish Reddy         JP Duminy  0  1  0  0  0  0        0      1\n",
      "15     A Ashish Reddy       JP Faulkner  1  0  1  0  0  0        0      2\n",
      "16     A Ashish Reddy        KA Pollard  1  1  1  0  0  0        1      3\n",
      "17     A Ashish Reddy         KK Cooper  1  2  1  0  1  0        0      5\n",
      "18     A Ashish Reddy          M Kartik  3  4  1  0  0  0        0      8\n",
      "19     A Ashish Reddy          M Morkel  1  3  1  0  0  0        1      5\n",
      "20     A Ashish Reddy        MG Johnson  0  1  1  0  1  0        0      3\n",
      "21     A Ashish Reddy          MM Patel  2  0  0  0  0  0        1      2\n",
      "22     A Ashish Reddy         MM Sharma  0  1  0  0  0  1        0      2\n",
      "23     A Ashish Reddy          MR Marsh  0  3  0  0  0  0        0      3\n",
      "24     A Ashish Reddy           MS Gony  2  1  0  0  1  0        0      4\n",
      "25     A Ashish Reddy   NM Coulter-Nile  1  0  0  0  0  0        0      1\n",
      "26     A Ashish Reddy           P Awana  2  0  0  0  0  0        1      2\n",
      "27     A Ashish Reddy           P Kumar  1  2  0  0  1  0        0      4\n",
      "28     A Ashish Reddy         PP Chawla  0  2  0  0  0  0        0      2\n",
      "29     A Ashish Reddy          PV Tambe  1  3  0  0  0  0        0      4\n",
      "...               ...               ... .. .. .. .. .. ..      ...    ...\n",
      "17121          Z Khan        GD McGrath  0  0  0  0  1  0        0      1\n",
      "17122          Z Khan         HH Pandya  4  1  0  0  0  0        0      5\n",
      "17123          Z Khan   Harbhajan Singh  1  0  0  0  0  0        0      1\n",
      "17124          Z Khan         IK Pathan  1  2  0  0  0  0        0      3\n",
      "17125          Z Khan           J Botha  1  0  0  0  0  0        0      1\n",
      "17126          Z Khan         JA Morkel  0  2  0  0  0  0        0      2\n",
      "17127          Z Khan          JDP Oram  1  2  0  0  1  0        0      4\n",
      "17128          Z Khan         JH Kallis  1  1  1  0  1  0        0      4\n",
      "17129          Z Khan         JJ Bumrah  1  2  0  0  0  0        0      3\n",
      "17130          Z Khan       JW Hastings  2  0  0  0  1  0        1      3\n",
      "17131          Z Khan         KH Pandya  1  0  0  0  0  0        1      1\n",
      "17132          Z Khan         KV Sharma  4  1  0  0  0  0        1      5\n",
      "17133          Z Khan          L Ablish  1  0  0  0  0  0        0      1\n",
      "17134          Z Khan         LR Shukla  2  2  0  0  0  0        0      4\n",
      "17135          Z Khan           P Kumar  1  0  1  0  2  1        0      5\n",
      "17136          Z Khan            P Negi  0  2  0  0  0  0        0      2\n",
      "17137          Z Khan         PP Chawla  5  0  0  0  0  0        1      5\n",
      "17138          Z Khan          R Ashwin  1  2  0  0  0  0        0      3\n",
      "17139          Z Khan  RN ten Doeschate  0  2  1  0  1  0        0      4\n",
      "17140          Z Khan          RP Singh  2  2  0  0  0  0        0      4\n",
      "17141          Z Khan         SB Jakati  4  2  1  0  1  0        0      8\n",
      "17142          Z Khan        SC Ganguly  3  1  0  0  0  0        1      4\n",
      "17143          Z Khan        SK Trivedi  2  1  0  0  2  0        0      5\n",
      "17144          Z Khan          SK Warne  4  2  0  0  0  0        1      6\n",
      "17145          Z Khan        SL Malinga  1  1  0  0  0  0        0      2\n",
      "17146          Z Khan         SR Watson  2  3  0  0  0  0        0      5\n",
      "17147          Z Khan   Shakib Al Hasan  0  3  0  0  0  0        0      3\n",
      "17148          Z Khan     Sohail Tanvir  3  1  1  0  0  0        0      5\n",
      "17149          Z Khan         VRV Singh  3  0  0  0  0  0        0      3\n",
      "17150          Z Khan         YK Pathan  1  1  0  0  0  0        0      2\n",
      "\n",
      "[17151 rows x 10 columns]\n"
     ]
    }
   ],
   "source": [
    "from functools import reduce\n",
    "dfs = [x0,x1,x2,x3,x4,x6,xw,xb]\n",
    "new_df = reduce(lambda left,right: pd.merge(left,right, how='inner', on=['batsman','bowler']), dfs)\n",
    "new_df.columns = ['batsman','bowler','0','1','2','3','4','6','wickets','balls']\n",
    "print(new_df)\n"
   ]
  },
  {
   "cell_type": "code",
   "execution_count": 44,
   "metadata": {},
   "outputs": [
    {
     "name": "stderr",
     "output_type": "stream",
     "text": [
      "/Users/adityapandey/anaconda3/lib/python3.6/site-packages/ipykernel_launcher.py:3: SettingWithCopyWarning: \n",
      "A value is trying to be set on a copy of a slice from a DataFrame.\n",
      "Try using .loc[row_indexer,col_indexer] = value instead\n",
      "\n",
      "See the caveats in the documentation: http://pandas.pydata.org/pandas-docs/stable/indexing.html#indexing-view-versus-copy\n",
      "  This is separate from the ipykernel package so we can avoid doing imports until\n",
      "/Users/adityapandey/anaconda3/lib/python3.6/site-packages/ipykernel_launcher.py:4: SettingWithCopyWarning: \n",
      "A value is trying to be set on a copy of a slice from a DataFrame.\n",
      "Try using .loc[row_indexer,col_indexer] = value instead\n",
      "\n",
      "See the caveats in the documentation: http://pandas.pydata.org/pandas-docs/stable/indexing.html#indexing-view-versus-copy\n",
      "  after removing the cwd from sys.path.\n",
      "/Users/adityapandey/anaconda3/lib/python3.6/site-packages/ipykernel_launcher.py:5: SettingWithCopyWarning: \n",
      "A value is trying to be set on a copy of a slice from a DataFrame.\n",
      "Try using .loc[row_indexer,col_indexer] = value instead\n",
      "\n",
      "See the caveats in the documentation: http://pandas.pydata.org/pandas-docs/stable/indexing.html#indexing-view-versus-copy\n",
      "  \"\"\"\n",
      "/Users/adityapandey/anaconda3/lib/python3.6/site-packages/ipykernel_launcher.py:6: SettingWithCopyWarning: \n",
      "A value is trying to be set on a copy of a slice from a DataFrame.\n",
      "Try using .loc[row_indexer,col_indexer] = value instead\n",
      "\n",
      "See the caveats in the documentation: http://pandas.pydata.org/pandas-docs/stable/indexing.html#indexing-view-versus-copy\n",
      "  \n",
      "/Users/adityapandey/anaconda3/lib/python3.6/site-packages/ipykernel_launcher.py:7: SettingWithCopyWarning: \n",
      "A value is trying to be set on a copy of a slice from a DataFrame.\n",
      "Try using .loc[row_indexer,col_indexer] = value instead\n",
      "\n",
      "See the caveats in the documentation: http://pandas.pydata.org/pandas-docs/stable/indexing.html#indexing-view-versus-copy\n",
      "  import sys\n",
      "/Users/adityapandey/anaconda3/lib/python3.6/site-packages/ipykernel_launcher.py:8: SettingWithCopyWarning: \n",
      "A value is trying to be set on a copy of a slice from a DataFrame.\n",
      "Try using .loc[row_indexer,col_indexer] = value instead\n",
      "\n",
      "See the caveats in the documentation: http://pandas.pydata.org/pandas-docs/stable/indexing.html#indexing-view-versus-copy\n",
      "  \n",
      "/Users/adityapandey/anaconda3/lib/python3.6/site-packages/ipykernel_launcher.py:9: SettingWithCopyWarning: \n",
      "A value is trying to be set on a copy of a slice from a DataFrame.\n",
      "Try using .loc[row_indexer,col_indexer] = value instead\n",
      "\n",
      "See the caveats in the documentation: http://pandas.pydata.org/pandas-docs/stable/indexing.html#indexing-view-versus-copy\n",
      "  if __name__ == '__main__':\n",
      "/Users/adityapandey/anaconda3/lib/python3.6/site-packages/ipykernel_launcher.py:13: SettingWithCopyWarning: \n",
      "A value is trying to be set on a copy of a slice from a DataFrame.\n",
      "Try using .loc[row_indexer,col_indexer] = value instead\n",
      "\n",
      "See the caveats in the documentation: http://pandas.pydata.org/pandas-docs/stable/indexing.html#indexing-view-versus-copy\n",
      "  del sys.path[0]\n"
     ]
    },
    {
     "name": "stdout",
     "output_type": "stream",
     "text": [
      "              batsman           bowler         0         1         2  \\\n",
      "2      A Ashish Reddy       AD Mathews  0.166667  0.500000  0.666667   \n",
      "9      A Ashish Reddy         DJ Bravo  0.263158  0.526316  0.631579   \n",
      "31     A Ashish Reddy    R Vinay Kumar  0.235294  0.647059  0.764706   \n",
      "42     A Ashish Reddy         UT Yadav  0.187500  0.500000  0.625000   \n",
      "53           A Chopra       PJ Sangwan  0.500000  0.687500  0.750000   \n",
      "108          A Mishra         AB Dinda  0.238095  0.666667  0.761905   \n",
      "124          A Mishra  Harbhajan Singh  0.210526  0.736842  0.789474   \n",
      "134          A Mishra        JO Holder  0.437500  0.562500  0.687500   \n",
      "137          A Mishra       KA Pollard  0.437500  0.750000  0.812500   \n",
      "139          A Mishra        KV Sharma  0.437500  0.687500  0.812500   \n",
      "142          A Mishra         L Balaji  0.350000  0.550000  0.650000   \n",
      "144          A Mishra         M Morkel  0.294118  0.588235  0.764706   \n",
      "148          A Mishra         MM Patel  0.304348  0.521739  0.565217   \n",
      "157          A Mishra         R Ashwin  0.444444  0.777778  0.833333   \n",
      "164          A Mishra       SC Ganguly  0.285714  0.714286  0.809524   \n",
      "165          A Mishra       SK Trivedi  0.434783  0.652174  0.826087   \n",
      "167          A Mishra       SL Malinga  0.529412  0.764706  0.823529   \n",
      "169          A Mishra        SR Watson  0.500000  0.722222  0.777778   \n",
      "223         A Symonds         A Kumble  0.315789  0.631579  0.789474   \n",
      "224         A Symonds         A Mishra  0.375000  0.645833  0.812500   \n",
      "226         A Symonds       AB Agarkar  0.153846  0.692308  0.807692   \n",
      "243         A Symonds        DJ Hussey  0.312500  0.562500  0.625000   \n",
      "244         A Symonds        DP Nannes  0.150000  0.500000  0.650000   \n",
      "245         A Symonds     DT Christian  0.333333  0.666667  0.777778   \n",
      "246         A Symonds         DW Steyn  0.300000  0.600000  0.733333   \n",
      "248         A Symonds         I Sharma  0.363636  0.727273  0.818182   \n",
      "249         A Symonds        IK Pathan  0.294118  0.588235  0.705882   \n",
      "252         A Symonds        JA Morkel  0.333333  0.625000  0.750000   \n",
      "254         A Symonds        JH Kallis  0.260870  0.608696  0.652174   \n",
      "260         A Symonds         L Balaji  0.315789  0.631579  0.684211   \n",
      "...               ...              ...       ...       ...       ...   \n",
      "17049    Yuvraj Singh          PP Ojha  0.464286  0.714286  0.750000   \n",
      "17052    Yuvraj Singh    Parvez Rasool  0.450000  0.700000  0.750000   \n",
      "17053    Yuvraj Singh         R Ashwin  0.437500  0.791667  0.854167   \n",
      "17054    Yuvraj Singh         R Bhatia  0.333333  0.722222  0.777778   \n",
      "17055    Yuvraj Singh         R Dhawan  0.468750  0.750000  0.812500   \n",
      "17059    Yuvraj Singh         R Sharma  0.363636  0.727273  0.772727   \n",
      "17060    Yuvraj Singh         R Shukla  0.375000  0.500000  0.562500   \n",
      "17063    Yuvraj Singh        RA Jadeja  0.444444  0.740741  0.851852   \n",
      "17065    Yuvraj Singh        RG Sharma  0.208333  0.625000  0.750000   \n",
      "17070    Yuvraj Singh        S Aravind  0.117647  0.588235  0.647059   \n",
      "17073    Yuvraj Singh         S Nadeem  0.260870  0.608696  0.652174   \n",
      "17074    Yuvraj Singh         S Randiv  0.428571  0.714286  0.809524   \n",
      "17077    Yuvraj Singh        SB Jakati  0.315789  0.684211  0.789474   \n",
      "17078    Yuvraj Singh       SC Ganguly  0.421053  0.736842  0.789474   \n",
      "17082    Yuvraj Singh         SK Raina  0.380952  0.809524  0.841270   \n",
      "17083    Yuvraj Singh       SK Trivedi  0.413043  0.739130  0.826087   \n",
      "17084    Yuvraj Singh         SK Warne  0.354167  0.687500  0.750000   \n",
      "17085    Yuvraj Singh       SL Malinga  0.405405  0.648649  0.729730   \n",
      "17086    Yuvraj Singh       SM Harwood  0.550000  0.750000  0.850000   \n",
      "17089    Yuvraj Singh        SP Narine  0.574074  0.759259  0.888889   \n",
      "17090    Yuvraj Singh        SR Watson  0.428571  0.690476  0.714286   \n",
      "17092    Yuvraj Singh   Sandeep Sharma  0.380952  0.666667  0.714286   \n",
      "17097    Yuvraj Singh     Shoaib Malik  0.375000  0.562500  0.687500   \n",
      "17099    Yuvraj Singh       TG Southee  0.363636  0.636364  0.818182   \n",
      "17103    Yuvraj Singh         UT Yadav  0.435897  0.615385  0.743590   \n",
      "17109    Yuvraj Singh  Y Venugopal Rao  0.263158  0.631579  0.684211   \n",
      "17110    Yuvraj Singh        YK Pathan  0.225806  0.677419  0.741935   \n",
      "17111    Yuvraj Singh        YS Chahal  0.285714  0.666667  0.714286   \n",
      "17112    Yuvraj Singh           Z Khan  0.388889  0.555556  0.777778   \n",
      "17116          Z Khan     DE Bollinger  0.411765  0.588235  0.764706   \n",
      "\n",
      "              3         4    6   wickets  balls  \n",
      "2      0.722222  0.833333  1.0  0.923077     12  \n",
      "9      0.684211  0.894737  1.0  0.857143     13  \n",
      "31     0.823529  0.882353  1.0  0.750000     11  \n",
      "42     0.687500  0.875000  1.0  0.909091     10  \n",
      "53     0.812500  0.937500  1.0  0.818182     10  \n",
      "108    0.809524  0.952381  1.0  0.937500     15  \n",
      "124    0.842105  0.947368  1.0  0.928571     13  \n",
      "134    0.750000  0.937500  1.0  0.909091     10  \n",
      "137    0.875000  0.937500  1.0  0.818182     10  \n",
      "139    0.875000  0.937500  1.0  0.909091     10  \n",
      "142    0.700000  0.900000  1.0  0.933333     14  \n",
      "144    0.823529  0.941176  1.0  0.916667     11  \n",
      "148    0.608696  0.956522  1.0  0.888889     17  \n",
      "157    0.888889  0.944444  1.0  0.846154     12  \n",
      "164    0.857143  0.952381  1.0  0.937500     15  \n",
      "165    0.869565  0.956522  1.0  0.888889     17  \n",
      "167    0.882353  0.941176  1.0  0.750000     11  \n",
      "169    0.833333  0.944444  1.0  0.923077     12  \n",
      "223    0.842105  0.947368  1.0  0.785714     13  \n",
      "224    0.833333  0.875000  1.0  0.906977     42  \n",
      "226    0.846154  0.923077  1.0  0.904762     20  \n",
      "243    0.687500  0.812500  1.0  0.909091     10  \n",
      "244    0.700000  0.950000  1.0  0.933333     14  \n",
      "245    0.833333  0.944444  1.0  0.923077     12  \n",
      "246    0.766667  0.933333  1.0  0.920000     24  \n",
      "248    0.863636  0.954545  1.0  0.882353     16  \n",
      "249    0.764706  0.882353  1.0  0.916667     11  \n",
      "252    0.791667  0.916667  1.0  0.947368     18  \n",
      "254    0.695652  0.913043  1.0  0.944444     17  \n",
      "260    0.736842  0.842105  1.0  0.928571     13  \n",
      "...         ...       ...  ...       ...    ...  \n",
      "17049  0.785714  0.857143  1.0  0.913043     22  \n",
      "17052  0.800000  0.900000  1.0  0.800000     14  \n",
      "17053  0.875000  0.916667  1.0  0.976744     42  \n",
      "17054  0.805556  0.888889  1.0  0.967742     30  \n",
      "17055  0.843750  0.937500  1.0  0.925926     26  \n",
      "17059  0.818182  0.863636  1.0  0.941176     16  \n",
      "17060  0.625000  0.687500  1.0  0.909091     10  \n",
      "17063  0.888889  0.962963  1.0  0.909091     21  \n",
      "17065  0.791667  0.958333  1.0  0.947368     18  \n",
      "17070  0.705882  0.882353  1.0  0.916667     11  \n",
      "17073  0.695652  0.869565  1.0  0.944444     17  \n",
      "17074  0.857143  0.952381  1.0  0.937500     15  \n",
      "17077  0.842105  0.947368  1.0  0.928571     13  \n",
      "17078  0.842105  0.894737  1.0  0.928571     13  \n",
      "17082  0.873016  0.984127  1.0  0.948276     57  \n",
      "17083  0.869565  0.891304  1.0  0.926829     40  \n",
      "17084  0.770833  0.833333  1.0  0.953488     42  \n",
      "17085  0.756757  0.972973  1.0  0.875000     31  \n",
      "17086  0.900000  0.950000  1.0  0.933333     14  \n",
      "17089  0.907407  0.962963  1.0  0.959184     48  \n",
      "17090  0.738095  0.928571  1.0  0.972973     36  \n",
      "17092  0.761905  0.904762  1.0  0.937500     15  \n",
      "17097  0.750000  0.937500  1.0  0.909091     10  \n",
      "17099  0.848485  0.878788  1.0  0.964286     27  \n",
      "17103  0.769231  0.871795  1.0  0.882353     33  \n",
      "17109  0.736842  0.947368  1.0  0.857143     13  \n",
      "17110  0.774194  0.903226  1.0  0.961538     25  \n",
      "17111  0.761905  0.857143  1.0  0.875000     15  \n",
      "17112  0.833333  0.944444  1.0  0.769231     12  \n",
      "17116  0.823529  0.941176  1.0  0.833333     11  \n",
      "\n",
      "[4951 rows x 10 columns]\n"
     ]
    }
   ],
   "source": [
    "def thresholdfilter(threshold):\n",
    "    df_sub = new_df[new_df['balls']>threshold]\n",
    "    df_sub['0'] = (df_sub['0']+1)/(df_sub['balls']+6)\n",
    "    df_sub['1'] = (df_sub['1']+1)/(df_sub['balls']+6)\n",
    "    df_sub['2'] = (df_sub['2']+1)/(df_sub['balls']+6)\n",
    "    df_sub['3'] = (df_sub['3']+1)/(df_sub['balls']+6)\n",
    "    df_sub['4'] = (df_sub['4']+1)/(df_sub['balls']+6)\n",
    "    df_sub['6'] = (df_sub['6']+1)/(df_sub['balls']+6)\n",
    "    df_sub['wickets'] = 1-((df_sub['wickets']+1)/(df_sub['balls']+1))\n",
    "    l = [df_sub['0'], df_sub['1'], df_sub['2'], df_sub['3'], df_sub['4'], df_sub['6'], df_sub['wickets']]\n",
    "    for i in range(len(l)-2):\n",
    "        l[i+1] = l[i]+l[i+1]\n",
    "        df_sub[df_sub.columns[i+3]]=l[i+1]\n",
    "    return df_sub\n",
    "      \n",
    "filtered=thresholdfilter(9)\n",
    "print(filtered)\n",
    "df_fallprobs = [[np.mean(filtered['0']),np.mean(filtered['1']),np.mean(filtered['2']),np.mean(filtered['3']),np.mean(filtered['4']),np.mean(filtered['6'])]]\n",
    "df_wicketprob = np.mean(filtered['wickets'])*1.05"
   ]
  },
  {
   "cell_type": "code",
   "execution_count": 34,
   "metadata": {
    "collapsed": true
   },
   "outputs": [],
   "source": [
    "def pvpprob(batsman,bowler,random):\n",
    "    df_sub = filtered[(filtered['batsman']==batsman) & (filtered['bowler']==bowler)]\n",
    "    if len(df_sub)>0:\n",
    "        #print(df_sub)\n",
    "        l = [df_sub['0'], df_sub['1'], df_sub['2'], df_sub['3'], df_sub['4'], df_sub['6']]\n",
    "        res = [0,1,2,3,4,6]\n",
    "        index=0\n",
    "        for i in range(len(l)):\n",
    "            if (l[i].iloc[0]<random):\n",
    "                index=i+1\n",
    "        return [int(res[index]),df_sub['wickets'].iloc[0]]\n",
    "    else:\n",
    "        return clusterprob(batsman,bowler,random)"
   ]
  },
  {
   "cell_type": "code",
   "execution_count": 35,
   "metadata": {},
   "outputs": [
    {
     "data": {
      "text/plain": [
       "[6, 0.9230769230769231]"
      ]
     },
     "execution_count": 35,
     "metadata": {},
     "output_type": "execute_result"
    }
   ],
   "source": [
    "pvpprob(\"A Ashish Reddy\",\"AD Mathews\",0.94215)"
   ]
  },
  {
   "cell_type": "code",
   "execution_count": 36,
   "metadata": {},
   "outputs": [
    {
     "data": {
      "text/plain": [
       "[6, 0.9258690217664557]"
      ]
     },
     "execution_count": 36,
     "metadata": {},
     "output_type": "execute_result"
    }
   ],
   "source": [
    "def clusterprob(batsman,bowler,random):\n",
    "    if((len(bat[bat['Player']==batsman])>0) and (len(ball[ball['Player']==bowler])>0)):\n",
    "        \n",
    "        batClus = bat[bat['Player']==batsman].iloc[0]['Cluster']\n",
    "        ballClus = ball[ball['Player']==bowler].iloc[0]['Cluster']\n",
    "        \n",
    "        #each batsman of this cluster ka probability with that bowler\n",
    "        batsmenInClus = bat[bat['Cluster']==batClus].loc[:][\"Player\"]\n",
    "        bowlersInClus = ball[ball['Cluster']==ballClus].loc[:][\"Player\"]\n",
    "        \n",
    "        #print(\"Batsman Cluster Size\",len(batsmenInClus))\n",
    "        #print(\"Bowler Cluster Size\",len(bowlersInClus))\n",
    "        \n",
    "        df=[]\n",
    "        wicketProbs=[]\n",
    "        for aBatsman in batsmenInClus:\n",
    "            df_sub = filtered[(filtered['batsman']==aBatsman) & (filtered['bowler']==bowler)]\n",
    "            if len(df_sub)>0:\n",
    "                l = [df_sub['0'].iloc[0], df_sub['1'].iloc[0], df_sub['2'].iloc[0], df_sub['3'].iloc[0], df_sub['4'].iloc[0], df_sub['6'].iloc[0]]\n",
    "                df.append(l)\n",
    "                wicketProbs.append(df_sub['wickets'].iloc[0])\n",
    "        for aBowler in bowlersInClus:\n",
    "            df_sub = filtered[(filtered['batsman']==batsman) & (filtered['bowler']==aBowler)]\n",
    "            if len(df_sub)>0:\n",
    "                l = [df_sub['0'].iloc[0], df_sub['1'].iloc[0], df_sub['2'].iloc[0], df_sub['3'].iloc[0], df_sub['4'].iloc[0], df_sub['6'].iloc[0]]\n",
    "                df.append(l)\n",
    "                wicketProbs.append(df_sub['wickets'].iloc[0])\n",
    "        if(df==[]):\n",
    "            #print(\"hello\",batsman,bowler)\n",
    "            df=df_fallprobs \n",
    "            wicketProbs=df_wicketprob\n",
    "        df=pd.DataFrame(df)\n",
    "        runList=['0','1','2','3','4','6']\n",
    "        df.columns=runList\n",
    "        meanProb=df.mean()\n",
    "        wicketProb=np.mean(wicketProbs)\n",
    "        index=0\n",
    "        for i in range(len(meanProb)):\n",
    "            if (meanProb[i]<random):\n",
    "                index=i+1\n",
    "        return [int(runList[index%6]),wicketProb]\n",
    "    else:\n",
    "        df=df_fallprobs\n",
    "        wicketProbs=df_wicketprob\n",
    "        df=pd.DataFrame(df)\n",
    "        runList=['0','1','2','3','4','6']\n",
    "        df.columns=runList\n",
    "        meanProb=df.mean()\n",
    "        wicketProb=np.mean(wicketProbs)\n",
    "        index=0\n",
    "        for i in range(len(meanProb)):\n",
    "            if (meanProb[i]<random):\n",
    "                index=i+1\n",
    "        return [int(runList[index]),wicketProb]\n",
    "clusterprob(\"V Kohli\",\"AD Mathews\", 0.946)            \n",
    "            \n",
    "        \n",
    "    "
   ]
  },
  {
   "cell_type": "code",
   "execution_count": 37,
   "metadata": {
    "collapsed": true
   },
   "outputs": [],
   "source": [
    "import random\n",
    "from copy import deepcopy\n",
    "def matchSimulation(t1bat,t1bowl,t2bat,t2bowl):\n",
    "    innings=2\n",
    "    overs=20\n",
    "    ballsPerOver=6\n",
    "    runs=[0,0]\n",
    "    wickets=[0,0]\n",
    "    batting=[t1bat,t2bat]\n",
    "    bowling=[t2bowl,t1bowl]\n",
    "    bbbrec=[]\n",
    "    p=0\n",
    "    batsmenPlaying={'strike':{'name':batting[0][0], 'wicketProb': 1}, 'nonStrike':{'name':batting[0][1],'wicketProb': 1}}\n",
    "    #print(batsmenPlaying)\n",
    "    for i in range(innings):\n",
    "        for j in range(overs):\n",
    "            #random.seed(10)\n",
    "            for k in range(ballsPerOver):  \n",
    "                #print(j, \" : \",p)\n",
    "                p+=1\n",
    "                randomvar = random.uniform(0, 1)\n",
    "                #if j<6 or j>15:\n",
    "                #    randomvar=random.uniform(0.2, 1)\n",
    "                pvpRes=pvpprob(batsmenPlaying['strike']['name'],bowling[i][j%len(bowling[i])],randomvar)\n",
    "                batsmenPlaying['strike']['wicketProb']*=pvpRes[1]\n",
    "                if(batsmenPlaying['strike']['wicketProb']>0.3):\n",
    "                    runs[i]+=pvpRes[0]\n",
    "                    bbbrec.append(pvpRes[0])\n",
    "                    if(pvpRes[0]%2==1):\n",
    "                        temp=batsmenPlaying['nonStrike']\n",
    "                        batsmenPlaying['nonStrike']=batsmenPlaying['strike']\n",
    "                        batsmenPlaying['strike']=temp\n",
    "                else:\n",
    "                    wickets[i]+=1\n",
    "                    bbbrec.append(deepcopy(batsmenPlaying['strike']['name']))\n",
    "                    if(wickets[i]>=10):\n",
    "                        break;\n",
    "                    batsmenPlaying['strike']['name']=batting[i][wickets[i]+1]\n",
    "                    batsmenPlaying['strike']['wicketProb']=1\n",
    "                    \n",
    "                if (runs[1]>runs[0]):\n",
    "                    break\n",
    "                \n",
    "            else:\n",
    "                temp=batsmenPlaying['nonStrike']\n",
    "                batsmenPlaying['nonStrike']=batsmenPlaying['strike']\n",
    "                batsmenPlaying['strike']=temp\n",
    "                #print(bbbrec)\n",
    "                continue\n",
    "            break\n",
    "    print(bbbrec)\n",
    "    print(\"Number of balls: \",len(bbbrec))\n",
    "    #winTeam= runs[0]<runs[1]?runs[1]:runs[0]\n",
    "    print(\"Team 1: \",runs[0],\"/\",wickets[0],\"\\tTeam 2: \",runs[1],\"/\",wickets[1],sep=\"\")\n",
    "    if(runs[0]<runs[1]):\n",
    "        winTeam = \"Team 2\"\n",
    "    else:\n",
    "        winTeam = \"Team 1\"\n",
    "    return winTeam\n"
   ]
  },
  {
   "cell_type": "code",
   "execution_count": 38,
   "metadata": {},
   "outputs": [
    {
     "data": {
      "text/plain": [
       "[6, 0.91081656532891]"
      ]
     },
     "execution_count": 38,
     "metadata": {},
     "output_type": "execute_result"
    }
   ],
   "source": [
    "pvpprob(\"RG Sharma\",\"Washington Sundar\",random.random())"
   ]
  },
  {
   "cell_type": "code",
   "execution_count": 39,
   "metadata": {
    "scrolled": true
   },
   "outputs": [
    {
     "name": "stdout",
     "output_type": "stream",
     "text": [
      "[0, 0, 3, 2, 4, 0, 1, 0, 1, 1, 1, 0, 0, 0, 1, 0, 0, 1, 2, 'LMP Simmons', 1, 2, 0, 0, 0, 6, 1, 1, 0, 4, 'PA Patel', 4, 2, 6, 1, 1, 3, 4, 1, 0, 1, 4, 0, 0, 1, 1, 1, 4, 1, 2, 2, 1, 0, 1, 'AT Rayudu', 1, 0, 1, 3, 6, 0, 2, 4, 6, 1, 0, 0, 1, 'RG Sharma', 1, 'KH Pandya', 0, 1, 1, 0, 0, 0, 1, 3, 0, 0, 1, 1, 0, 1, 0, 0, 3, 2, 'KA Pollard', 0, 6, 0, 1, 1, 'HH Pandya', 6, 0, 2, 1, 2, 3, 1, 2, 0, 'KV Sharma', 0, 6, 0, 3, 0, 4, 1, 4, 2, 0, 4, 3, 3, 2, 1, 'JJ Bumrah', 1, 1, 6, 2, 'MG Johnson', 0, 1, 0, 1, 0, 1, 0, 4, 1, 1, 0, 1, 1, 0, 0, 1, 1, 3, 4, 0, 0, 3, 1, 6, 4, 6, 'MS Dhoni', 0, 2, 'SPD Smith', 0, 0, 0, 1, 4, 1, 1, 3, 4, 1, 1, 1, 0, 0, 0, 1, 0, 1, 1, 2, 1, 0, 0, 'MK Tiwary', 1, 'DT Christian', 1, 1, 1, 6, 1, 1, 0, 6, 4, 1, 3, 1, 6, 'LH Ferguson', 0, 1, 0, 1, 3, 0, 0, 3, 1, 'Washington Sundar', 0, 2, 0, 1, 0, 6, 3, 'A Zampa', 2, 0, 0, 'SN Thakur']\n",
      "Number of balls:  219\n",
      "Team 1: 170/8\tTeam 2: 132/10\n"
     ]
    },
    {
     "data": {
      "text/plain": [
       "'Team 1'"
      ]
     },
     "execution_count": 39,
     "metadata": {},
     "output_type": "execute_result"
    }
   ],
   "source": [
    "t1bat=['LMP Simmons','PA Patel','AT Rayudu','RG Sharma','KH Pandya','KA Pollard','HH Pandya','KV Sharma','MG Johnson','JJ Bumrah','SL Malinga']\n",
    "t2bowl=['JD Unadkat','Washington Sundar','JD Unadkat','Washington Sundar','JD Unadkat','DT Christian','SN Thakur','DT Christian','A Zampa','LH Ferguson','A Zampa','LH Ferguson','A Zampa','Washington Sundar','A Zampa','Washington Sundar','DT Christian','SN Thakur','JD Unadkat','DT Christian']\n",
    "\n",
    "t2bat=['AM Rahane','RA Tripathi','SPD Smith','MS Dhoni','MK Tiwary','DT Christian','Washington Sundar','LH Ferguson','A Zampa','SN Thakur','JD Unadkat']\n",
    "t1bowl=['KH Pandya','MG Johnson','JJ Bumrah','SL Malinga','KV Sharma','KH Pandya','MG Johnson','JJ Bumrah','SL Malinga','KV Sharma','KH Pandya','MG Johnson','JJ Bumrah','SL Malinga','KV Sharma','KH Pandya','MG Johnson','JJ Bumrah','SL Malinga','KV Sharma']\n",
    "\n",
    "matchSimulation(t1bat,t1bowl,t2bat,t2bowl)"
   ]
  },
  {
   "cell_type": "code",
   "execution_count": 56,
   "metadata": {
    "collapsed": true
   },
   "outputs": [],
   "source": [
    "match1={\n",
    "\"team1_batting_order\":[\"SR Watson\",\"AT Rayudu\",\"SK Raina\",\"SW Billings\",\"RA Jadeja\",\"MS Dhoni\",\"DJ Bravo\",\"Harbhajan Singh\",\"DL Chahar\",\"SN Thakur\",\"Imran Tahir\"],\n",
    "\"team2_batting_order\":[\"AS Yadav\",\"SR Tendulkar\",\"Ishan Kishan\",\"RG Sharma\",\"JP Duminy\",\"KH Pandya\",\"HH Pandya\",\"BCJ Cutting\",\"MJ McClenaghan\",\"SL Malinga\",\"JJ Bumrah\"],\n",
    "\"team1_bowling_order\":[\"DL Chahar\",\"SN Thakur\",\"DL Chahar\",\"SR Watson\",\"DL Chahar\",\"SN Thakur\",\"SR Watson\",\"Harbhajan Singh\",\"Imran Tahir\",\"Harbhajan Singh\",\"Imran Tahir\",\"Harbhajan Singh\",\"DJ Bravo\",\"SR Watson\",\"DJ Bravo\",\"SN Thakur\",\"DJ Bravo\",\"SR Watson\",\"SN Thakur\",\"Imran Tahir\"],\n",
    "\"team2_bowling_order\":[\"MJ McClenaghan\",\"JJ Bumrah\",\"MJ McClenaghan\",\"HH Pandya\",\"KH Pandya\",\"HH Pandya\",\"KH Pandya\",\"SL Malinga\",\"BCJ Cutting\",\"SL Malinga\",\"MJ McClenaghan\",\"KH Pandya\",\"JJ Bumrah\",\"KH Pandya\",\"HH Pandya\",\"SL Malinga\",\"JJ Bumrah\",\"MJ McClenaghan\",\"JJ Bumrah\",\"HH Pandya\"]\n",
    "}\n",
    "#\n",
    "\n",
    "#2.SRH vs CSK 27 may - 178/6 vs 181/2\n",
    "match2={\n",
    "\"team1_batting_order\":[\"SP Goswami\",\"S Dhawan\",\"KS Williamson\",\"Shakib Al Hasan\",\"YK Pathan\",\"DJ Hooda\",\"CR Brathwaite\",\"Rashid Khan\",\"B Kumar\",\"S Kaul\",\"Sandeep Sharma\"],\n",
    "\"team2_batting_order\":[\"SR Watson\",\"F du Plessis\",\"SK Raina\",\"AT Rayudu\",\"MS Dhoni\",\"DJ Bravo\",\"RA Jadeja\",\"KV Sharma\",\"DL Chahar\",\"SN Thakur\",\"L Ngidi\"],\n",
    "\"team1_bowling_order\":[\"B Kumar\",\"Sandeep Sharma\",\"B Kumar\",\"Sandeep Sharma\",\"B Kumar\",\"Sandeep Sharma\",\"S Kaul\",\"Rashid Khan\",\"S Kaul\",\"Rashid Khan\",\"Shakib Al Hasan\",\"CR Brathwaite\",\"Sandeep Sharma\",\"CR Brathwaite\",\"Rashid Khan\",\"B Kumar\",\"Rashid Khan\",\"S Kaul\",\"CR Brathwaite\",\"S Kaul\"],\n",
    "\"team2_bowling_order\":[\"DL Chahar\",\"L Ngidi\",\"DL Chahar\",\"L Ngidi\",\"DL Chahar\",\"SN Thakur\",\"KV Sharma\",\"DJ Bravo\",\"RA Jadeja\",\"DL Chahar\",\"RA Jadeja\",\"DJ Bravo\",\"KV Sharma\",\"SN Thakur\",\"KV Sharma\",\"DJ Bravo\",\"L Ngidi\",\"DJ Bravo\",\"L Ngidi\",\"SN Thakur\"]\n",
    "}\n",
    "\n",
    "#3.SRH vs CSK 22 may - 139/7 vs 140/8\n",
    "match3={\n",
    "\"team2_bowling_order\":[\"DL Chahar\",\"L Ngidi\",\"DL Chahar\",\"L Ngidi\",\"SN Thakur\",\"DL Chahar\",\"DJ Bravo\",\"RA Jadeja\",\"DJ Bravo\",\"RA Jadeja\",\"DL Chahar\",\"RA Jadeja\",\"SN Thakur\",\"RA Jadeja\",\"DJ Bravo\",\"L Ngidi\",\"DJ Bravo\",\"SN Thakur\",\"L Ngidi\",\"SN Thakur\"],\n",
    "\"team1_bowling_order\":[\"B Kumar\",\"Sandeep Sharma\",\"B Kumar\",\"S Kaul\",\"B Kumar\",\"S Kaul\",\"CR Brathwaite\",\"Rashid Khan\",\"CR Brathwaite\",\"Rashid Khan\",\"Shakib Al Hasan\",\"Rashid Khan\",\"Sandeep Sharma\",\"Shakib Al Hasan\",\"Sandeep Sharma\",\"Rashid Khan\",\"S Kaul\",\"CR Brathwaite\",\"S Kaul\",\"B Kumar\"],\n",
    "\"team1_batting_order\":[\"S Dhawan\",\"SP Goswami\",\"KS Williamson\",\"MK Pandey\",\"Shakib Al Hasan\",\"YK Pathan\",\"CR Brathwaite\",\"B Kumar\",\"Rashid Khan\",\"S Kaul\",\"Sandeep Sharma\"],\n",
    "\"team2_batting_order\":[\"SR Watson\",\"F du Plessis\",\"SK Raina\",\"AT Rayudu\",\"MS Dhoni\",\"DJ Bravo\",\"RA Jadeja\",\"DL Chahar\",\"Harbhajan Singh\",\"SN Thakur\",\"L Ngidi\"]\n",
    "}\n",
    "\n",
    "\n",
    "\n",
    "#4.SRH vs CSK 13 may - 179/4 vs 180/2\n",
    "match4={\n",
    "\"team1_bowling_order\":[\"Sandeep Sharma\",\"B Kumar\",\"Sandeep Sharma\",\"B Kumar\",\"Rashid Khan\",\"Shakib Al Hasan\",\"S Kaul\",\"Shakib Al Hasan\",\"Rashid Khan\",\"Sandeep Sharma\",\"S Kaul\",\"Rashid Khan\",\"B Kumar\",\"Shakib Al Hasan\",\"Sandeep Sharma\",\"Shakib Al Hasan\",\"Rashid Khan\",\"S Kaul\",\"B Kumar\",\"S Kaul\"],\n",
    "\"team2_bowling_order\":[\"DL Chahar\",\"SN Thakur\",\"DJ Wiley\",\"DL Chahar\",\"SN Thakur\",\"DL Chahar\",\"Harbhajan Singh\",\"DL Chahar\",\"SR Watson\",\"DJ Bravo\",\"RA Jadeja\",\"SR Watson\",\"RA Jadeja\",\"Harbhajan Singh\",\"DJ Wiley\",\"DJ Bravo\",\"SN Thakur\",\"DJ Bravo\",\"SN Thakur\",\"DJ Bravo\"],\n",
    "\"team2_batting_order\":[\"SR Watson\",\"AT Rayudu\",\"SK Raina\",\"MS Dhoni\",\"SW Billings\",\"DJ Bravo\",\"RA Jadeja\",\"DJ Wiley\",\"Harbhajan Singh\",\"DL Chahar\",\"SN Thakur\"],\n",
    "\"team1_batting_order\":[\"S Dhawan\",\"AH\",\"KS Williamson\",\"MK Pandey\",\"DJ Hooda\",\"Shakib Al Hasan\",\"SP Goswami\",\"Rashid Khan\",\"B Kumar\",\"S Kaul\",\"Sandeep Sharma\"]\n",
    "}\n",
    "\n",
    "\n",
    "\n",
    "#5.CSK vs SRH 22 Apr 182/3 vs 178/6\n",
    "match5={\n",
    "\"team1_batting_order\":[\"SR Watson\",\"F du Plessis\",\"SK Raina\",\"AT Rayudu\",\"MS Dhoni\",\"SW Billings\",\"DJ Bravo\",\"RA Jadeja\",\"DL Chahar\",\"KV Sharma\",\"SN Thakur\"],\n",
    "\"team2_batting_order\":[\"RB\",\"KS Williamson\",\"MK Pandey\",\"DJ Hooda\",\"Shakib Al Hasan\",\"YK Pathan\",\"WP Saha\",\"Rashid Khan\",\"B Kumar\",\"B Stanlake\",\"S Kaul\"],\n",
    "\"team1_bowling_order\":[\"DL Chahar\",\"SN Thakur\",\"DL Chahar\",\"SN Thakur\",\"DL Chahar\",\"SR Watson\",\"RA Jadeja\",\"DL Chahar\",\"RA Jadeja\",\"SR Watson\",\"KV Sharma\",\"RA Jadeja\",\"KV Sharma\",\"RA Jadeja\",\"KV Sharma\",\"DJ Bravo\",\"SN Thakur\",\"DJ Bravo\",\"SN Thakur\",\"DJ Bravo\"],\n",
    "\"team2_bowling_order\":[\"B Kumar\",\"B Stanlake\",\"Shakib Al Hasan\",\"B Kumar\",\"B Stanlake\",\"S Kaul\",\"Shakib Al Hasan\",\"Rashid Khan\",\"S Kaul\",\"B Kumar\",\"DJ Hooda\",\"Rashid Khan\",\"Shakib Al Hasan\",\"B Stanlake\",\"Shakib Al Hasan\",\"Rashid Khan\",\"S Kaul\",\"Rashid Khan\",\"S Kaul\",\"B Stanlake\"]\n",
    "}\n",
    "\n"
   ]
  },
  {
   "cell_type": "code",
   "execution_count": 57,
   "metadata": {},
   "outputs": [
    {
     "name": "stdout",
     "output_type": "stream",
     "text": [
      "{'strike': {'name': 'S Dhawan', 'wicketProb': 1}, 'nonStrike': {'name': 'AH', 'wicketProb': 1}}\n",
      "[1, 1, 1, 0, 4, 4, 1, 1, 1, 0, 4, {'name': 'AH', 'wicketProb': 0.3633401209798759}, 1, 1, 1, 0, 4, 4, 1, 0, 2, 0, 4, {'name': 'KS Williamson', 'wicketProb': 0.39700245447710164}, 1, 1, 1, 0, 4, 4, 1, 1, {'name': 'S Dhawan', 'wicketProb': 0.39260776905102224}, 0, 4, 4, 1, 1, 1, 0, 3, 1, 1, 0, 2, 0, 4, {'name': 'DJ Hooda', 'wicketProb': 0.3996461945435499}, 1, 1, {'name': 'MK Pandey', 'wicketProb': 0.38206217954676575}, 0, 4, 4, 1, 1, 1, 0, 4, 4, 1, 1, 1, 0, {'name': 'SP Goswami', 'wicketProb': 0.3994220353462552}, 4, 1, 1, 1, 0, 4, 4, 1, 1, 1, 0, 3, {'name': 'Shakib Al Hasan', 'wicketProb': 0.346775605481948}, {'name': 'Rashid Khan', 'wicketProb': 0.3871813902456437}, 1, 1, 0, 3, 3, 1, 1, 1, 0, 4, 4, 1, 1, 1, {'name': 'S Kaul', 'wicketProb': 0.37891637164408604}, 4, 4, 1, 1, 1, 0, 4, 4, 1, 1, 1, 0, {'name': 'Sandeep Sharma', 'wicketProb': 0.36758486602646406}, {'name': 'Sandeep Sharma', 'wicketProb': 0.33191242561889583}, 1, 1, 0, 4, 4, {'name': 'B Kumar', 'wicketProb': 0.3541891338639377}, 1, 1, 0, 4, 4, 2, 1, 1, 0, 4, 4, 1, 1, 1, 0, {'name': 'SK Raina', 'wicketProb': 0.39590922426673264}, 4, 1, 1, 1, 0, 4, 4, 1, 1, 1, {'name': 'SW Billings', 'wicketProb': 0.38845074960645054}, 4, 4, 1, 1, 1, 0, 4, 4, 1, 1, {'name': 'MS Dhoni', 'wicketProb': 0.38297573024958304}, 0, 3, 4, 1, 1, 1, {'name': 'DJ Bravo', 'wicketProb': 0.38168272897168676}, 4, 4, 1, 1, 1, 0, 4, 4, 1, 1, 1, {'name': 'DJ Wiley', 'wicketProb': 0.3633401209798759}, 4, 4, 1, 1, {'name': 'RA Jadeja', 'wicketProb': 0.3818965914627496}, 0, 4, 4, 0, 0, 0, 0, 2, {'name': 'Harbhajan Singh', 'wicketProb': 0.38230285131848507}, 1, 1, 1, 0, 3, 3, {'name': 'DL Chahar', 'wicketProb': 0.3777309204433438}]\n",
      "Team 1: 160 Team 2: 135\n"
     ]
    },
    {
     "data": {
      "text/plain": [
       "'team1'"
      ]
     },
     "execution_count": 57,
     "metadata": {},
     "output_type": "execute_result"
    }
   ],
   "source": [
    "matchSimulation(match4[\"team1_batting_order\"],match4[\"team1_bowling_order\"],match4[\"team2_batting_order\"],match4[\"team2_bowling_order\"])\n"
   ]
  },
  {
   "cell_type": "code",
   "execution_count": 58,
   "metadata": {},
   "outputs": [
    {
     "name": "stdout",
     "output_type": "stream",
     "text": [
      "{'strike': {'name': 'SR Watson', 'wicketProb': 1}, 'nonStrike': {'name': 'AT Rayudu', 'wicketProb': 1}}\n",
      "[1, 1, 1, 0, 4, 4, 0, 0, 0, {'name': 'SR Watson', 'wicketProb': 0.3801148373611324}, 4, 4, 1, 1, 1, 0, 4, 4, 1, 1, 1, 0, {'name': 'SK Raina', 'wicketProb': 0.3997025201357382}, 3, 1, 1, 1, 0, {'name': 'AT Rayudu', 'wicketProb': 0.37483596721958723}, 3, 1, 1, 1, 1, 3, 3, 1, 1, {'name': 'SW Billings', 'wicketProb': 0.3437303592031934}, 0, 4, 4, 1, 1, 1, 0, 2, 2, 1, 1, {'name': 'RA Jadeja', 'wicketProb': 0.35958161221444057}, 0, 4, 4, 1, 1, 1, 0, 4, 4, 1, 1, 1, {'name': 'DJ Bravo', 'wicketProb': 0.3695999900256779}, 4, 4, 1, 1, 1, 0, 4, 4, {'name': 'MS Dhoni', 'wicketProb': 0.34949342216775015}, 1, 1, 0, 4, 4, 1, 1, 1, 0, {'name': 'DL Chahar', 'wicketProb': 0.36644111863085677}, 4, {'name': 'Harbhajan Singh', 'wicketProb': 0.3703961570985626}, 1, 1, 0, 4, 4, 1, 1, 1, 0, {'name': 'Imran Tahir', 'wicketProb': 0.3721035218493603}, {'name': 'Imran Tahir', 'wicketProb': 0.3278709583221609}, 0, 1, 0, 4, {'name': 'SN Thakur', 'wicketProb': 0.36417782713711605}, 2, 1, 1, 0, 4, 4, 1, 0, 1, 0, 4, 4, {'name': 'Ishan Kishan', 'wicketProb': 0.39251286091253396}, 1, 1, 0, 4, 4, 1, 1, 1, 0, 4, 4, 1, 1, 1, 0, 3, {'name': 'RG Sharma', 'wicketProb': 0.3820645477550078}, 1, 1, {'name': 'JP Duminy', 'wicketProb': 0.38196443751838544}, 0, 4, 4, 1, 1, 1, 0, 4, 4, 3, 1, 3, 0, {'name': 'HH Pandya', 'wicketProb': 0.376223407518755}, 6, 1, 1, 1, 0, 3, 4, 3, 2, 3, 0, 6, 6, 1, 1, {'name': 'KH Pandya', 'wicketProb': 0.39799752264132704}, 0, 3, 3, 1, 1, 1, 0, 4, 4, {'name': 'BCJ Cutting', 'wicketProb': 0.3853414056298344}, 1, 1, 0, 4, 4, 1, 1, 1, 0, 4, 4, {'name': 'MJ McClenaghan', 'wicketProb': 0.37311782013739947}, 1, 1, 0, 4, 4, {'name': 'SL Malinga', 'wicketProb': 0.37676666947052984}]\n",
      "Team 1: 142 Team 2: 168\n"
     ]
    },
    {
     "data": {
      "text/plain": [
       "'team2'"
      ]
     },
     "execution_count": 58,
     "metadata": {},
     "output_type": "execute_result"
    }
   ],
   "source": [
    "matchSimulation(match1[\"team1_batting_order\"],match1[\"team1_bowling_order\"],match1[\"team2_batting_order\"],match1[\"team2_bowling_order\"])\n"
   ]
  },
  {
   "cell_type": "code",
   "execution_count": 59,
   "metadata": {},
   "outputs": [
    {
     "name": "stdout",
     "output_type": "stream",
     "text": [
      "{'strike': {'name': 'SP Goswami', 'wicketProb': 1}, 'nonStrike': {'name': 'S Dhawan', 'wicketProb': 1}}\n",
      "[1, 1, 1, 0, 4, 4, 1, 1, 1, 0, 4, 4, 1, 1, 1, 0, 4, 4, 1, {'name': 'S Dhawan', 'wicketProb': 0.3897775806945268}, 1, 0, 4, 4, 2, 0, 2, 0, 4, 4, 1, 1, {'name': 'SP Goswami', 'wicketProb': 0.3975985973776392}, 0, 4, 4, 1, 1, 1, 0, 4, 4, {'name': 'KS Williamson', 'wicketProb': 0.3570783796034774}, 1, 1, 0, 2, 2, {'name': 'Shakib Al Hasan', 'wicketProb': 0.36368597180541823}, 1, 1, 0, 4, 4, 1, 0, 2, 0, 4, 4, 1, {'name': 'DJ Hooda', 'wicketProb': 0.3917636473818461}, 1, 1, 3, 4, 1, 1, 1, 0, 2, 2, 1, 1, 1, {'name': 'YK Pathan', 'wicketProb': 0.3773559033555782}, 3, 4, 1, 1, 1, {'name': 'CR Brathwaite', 'wicketProb': 0.353656927612459}, 2, 2, 1, 1, 1, 0, 3, 4, 1, 1, 1, 0, {'name': 'Rashid Khan', 'wicketProb': 0.3692300042952438}, 4, 1, 1, 1, 0, 4, 4, 1, 1, {'name': 'B Kumar', 'wicketProb': 0.3941943511283338}, 0, 4, 4, 1, 1, {'name': 'S Kaul', 'wicketProb': 0.38398600411977357}, {'name': 'S Kaul', 'wicketProb': 0.326495370099325}, 1, 1, 0, 4, 4, 1, 1, 1, 0, 4, 4, {'name': 'Sandeep Sharma', 'wicketProb': 0.3860244184136755}, 1, 1, 0, 2, 2, 2, 1, 1, 0, {'name': 'SK Raina', 'wicketProb': 0.3848037761807094}, 4, 1, 1, 1, 0, 4, 4, {'name': 'AT Rayudu', 'wicketProb': 0.3850443795754877}, 1, 1, 0, 4, 4, 1, 1, 1, 0, 4, 4, 1, 1, 1, {'name': 'DJ Bravo', 'wicketProb': 0.3816329699030231}, 4, 4, 1, 1, 1, 0, 3, {'name': 'MS Dhoni', 'wicketProb': 0.3674950977122009}, 1, 1, 1, 0, 6, 6, 1, {'name': 'KV Sharma', 'wicketProb': 0.37863214186179217}, 1, 0, {'name': 'RA Jadeja', 'wicketProb': 0.3830726436444017}, 3, 1, 1, 1, 0, 4, 4, 1, 1, 1, 0, {'name': 'DL Chahar', 'wicketProb': 0.376663950619603}, 4, 1, 1, 1, 0, 4, 4, {'name': 'SN Thakur', 'wicketProb': 0.36755923431863774}]\n",
      "Team 1: 177 Team 2: 133\n"
     ]
    },
    {
     "data": {
      "text/plain": [
       "'team1'"
      ]
     },
     "execution_count": 59,
     "metadata": {},
     "output_type": "execute_result"
    }
   ],
   "source": [
    "matchSimulation(match2[\"team1_batting_order\"],match2[\"team1_bowling_order\"],match2[\"team2_batting_order\"],match2[\"team2_bowling_order\"])\n"
   ]
  },
  {
   "cell_type": "code",
   "execution_count": 63,
   "metadata": {},
   "outputs": [
    {
     "name": "stdout",
     "output_type": "stream",
     "text": [
      "{'strike': {'name': 'SR Watson', 'wicketProb': 1}, 'nonStrike': {'name': 'F du Plessis', 'wicketProb': 1}}\n",
      "[1, 1, 1, 0, 4, 4, 0, 0, 0, 0, 2, 2, 2, 1, 1, 0, 4, {'name': 'F du Plessis', 'wicketProb': 0.38742048900000015}, 1, 1, 1, 0, 4, 4, 1, 1, 1, 0, 4, 4, {'name': 'SR Watson', 'wicketProb': 0.3989935451664133}, 1, 1, 0, 4, 4, 1, 1, {'name': 'SK Raina', 'wicketProb': 0.3671137297205198}, 0, 4, 4, 1, 0, 1, 0, 3, 3, 1, 1, 1, 0, {'name': 'AT Rayudu', 'wicketProb': 0.39464269197741747}, 4, 1, 1, 1, 0, 4, 4, {'name': 'MS Dhoni', 'wicketProb': 0.38216597028717364}, 1, 1, 0, 3, 4, 1, 1, 1, {'name': 'DJ Bravo', 'wicketProb': 0.39262429675185145}, 4, 4, 1, 1, 1, 0, 4, 4, 1, 1, 1, {'name': 'DL Chahar', 'wicketProb': 0.3718273400926895}, 4, 4, {'name': 'RA Jadeja', 'wicketProb': 0.369873228597017}, 1, 1, 0, 4, 4, 1, 1, 1, 0, 4, 4, 1, {'name': 'SN Thakur', 'wicketProb': 0.333917351019639}, 1, 0, 4, {'name': 'Harbhajan Singh', 'wicketProb': 0.3946556475421021}, {'name': 'Harbhajan Singh', 'wicketProb': 0.35746694229294246}, 0, 2, 0, 4, 4, 1, 1, 1, 0, 4, {'name': 'KS Williamson', 'wicketProb': 0.39700245447710164}, 1, 1, 1, 0, 4, 4, 1, 1, {'name': 'L Ngidi', 'wicketProb': 0.38999026954741156}, 0, 3, 4, 1, 1, 1, 0, 4, 4, 1, {'name': 'MK Pandey', 'wicketProb': 0.38857311298720465}, 1, 0, 4, 4, 1, 1, 1, 0, {'name': 'Shakib Al Hasan', 'wicketProb': 0.3808915847957405}, 4, 1, 1, 1, 0, 3, 4, 1, 1, 1, 0, 2, 2, 1, 1, {'name': 'CR Brathwaite', 'wicketProb': 0.3942260326070121}, 0, 3, 4, 1, 1, 1, 0, {'name': 'YK Pathan', 'wicketProb': 0.38101400268831936}, 4, 1, 1, 1, 0, 3, 4, 1, {'name': 'B Kumar', 'wicketProb': 0.3889372043358306}, 1, 0, 4, {'name': 'Rashid Khan', 'wicketProb': 0.36305354978587157}, 1, 1, 1, 0, 3, 4, 1, 1, 1, 0, 4, 4, 1, {'name': 'S Kaul', 'wicketProb': 0.35728430138158784}]\n",
      "Team 1: 160 Team 2: 136\n"
     ]
    },
    {
     "data": {
      "text/plain": [
       "'team1'"
      ]
     },
     "execution_count": 63,
     "metadata": {},
     "output_type": "execute_result"
    }
   ],
   "source": [
    "matchSimulation(match3[\"team2_batting_order\"],match3[\"team2_bowling_order\"],match3[\"team1_batting_order\"],match3[\"team1_bowling_order\"])\n"
   ]
  },
  {
   "cell_type": "code",
   "execution_count": 89,
   "metadata": {},
   "outputs": [
    {
     "name": "stdout",
     "output_type": "stream",
     "text": [
      "[0, 4, 0, 4, 0, 0, 1, 4, 1, 6, 2, 2, 0, 1, 1, 1, 0, 0, 1, 0, 2, 0, 4, 0, 3, {'name': 'F du Plessis', 'wicketProb': 0.29912870090808963}, 6, 3, 1, 0, 0, 1, 4, 1, 1, 4, 2, 1, 4, 1, 6, {'name': 'SR Watson', 'wicketProb': 0.287942353576528}, 3, 0, 6, 4, 4, 4, 0, 0, 1, 0, 6, 0, {'name': 'SK Raina', 'wicketProb': 0.2893469613328536}, 1, 1, 4, 0, 1, 0, 1, 1, 0, 2, 0, 0, 3, 0, 1, 2, {'name': 'AT Rayudu', 'wicketProb': 0.276238368818607}, 4, 0, 1, 1, 6, 4, 0, 0, 4, 4, 4, 4, 6, {'name': 'MS Dhoni', 'wicketProb': 0.2756601271818344}, 6, 1, 1, 1, 3, 2, 0, {'name': 'SW Billings', 'wicketProb': 0.28880467122144227}, 1, 0, 1, 1, 1, 1, 6, 0, 1, 1, 0, 1, 1, 2, 1, 0, {'name': 'DJ Bravo', 'wicketProb': 0.2745425675281184}, 4, 4, 1, 0, 4, 0, 4, 4, 0, 6, 0, 0, 0, 0, {'name': 'RA Jadeja', 'wicketProb': 0.2761390152282299}, {'name': 'DL Chahar', 'wicketProb': 0.2878321624239596}, 6, 1, 4, 3, 1, 0, 0, 4, 0, 0, 0, 1, 0, 0, 0, {'name': 'DJ Hooda', 'wicketProb': 0.2894502437499951}, 0, 1, 0, 0, 0, 1, 6, 1, 1, 1, 1, 1, 2, 1, 1, 1, 2, 1, 0, {'name': 'MK Pandey', 'wicketProb': 0.2911822680331539}, 1, {'name': 'Shakib Al Hasan', 'wicketProb': 0.2981062118138957}, 1, 3, 1, 6, 1, 6, 0, 1, 1, 1, 0, 4, 0, 0, 4, 1, 6, 1, 4, 0, 4, 6, 1, 0, 6, 1, 1, 1, 4, 1, 6, 1, 0, 1, 1, {'name': 'YK Pathan', 'wicketProb': 0.293971579991681}, 2, 4, 1, 1, 1, 0, 2, 0, 1, 0, 0, {'name': 'Rashid Khan', 'wicketProb': 0.2907488501124055}, 1, {'name': 'WP Saha', 'wicketProb': 0.26859744853218037}, 4, 2, 1, 2, 4, 1, 2, 0, 6, 0, 1, 0, 0, 0, 6, {'name': 'B Stanlake', 'wicketProb': 0.28538816675140594}, 6, 1, 0, 1, 3, 1, 0, 1, 4]\n",
      "Team 1: 208 Team 2: 182\n"
     ]
    },
    {
     "data": {
      "text/plain": [
       "'team1'"
      ]
     },
     "execution_count": 89,
     "metadata": {},
     "output_type": "execute_result"
    }
   ],
   "source": [
    "matchSimulation(match5[\"team1_batting_order\"],match5[\"team1_bowling_order\"],match5[\"team2_batting_order\"],match5[\"team2_bowling_order\"])\n"
   ]
  },
  {
   "cell_type": "code",
   "execution_count": 40,
   "metadata": {
    "collapsed": true
   },
   "outputs": [],
   "source": [
    "m5_t1_bowl = [\"R Vinay Kumar\",\"PP Chawla\",\"AD Russell\",\"PP Chawla\",\"AD Russell\",\"TK Curran\",\"AD Russell\",\"SP Narine\",\"Kuldeep Yadav\",\"SP Narine\",\"Kuldeep Yadav\",\"SP Narine\",\"PP Chawla\",\"Kuldeep Yadav\",\"TK Curran\",\"SP Narine\",\"PP Chawla\",\"AD Russell\",\"TK Curran\",\"R Vinay Kumar\"]\n",
    "\n",
    "m5_t2_bat = [\"SR Watson\",\"AT Rayudu\",\"SK Raina\",\"MS Dhoni\",\"SW Billings\",\"RA Jadeja\",\"DJ Bravo\",\"DL Chahar\",\"Harbhajan Singh\",\"SN Thakur\",\"Imran Tahir\"]\n",
    "\n",
    "m5_t2_bowl = [\"DL Chahar\",\"Harbhajan Singh\",\"SR Watson\",\"RA Jadeja\",\"Imran Tahir\",\"RA Jadeja\",\"Harbhajan Singh\",\"SN Thakur\",\"SR Watson\",\"SN Thakur\",\"Imran Tahir\",\"SR Watson\",\"Imran Tahir\",\"DJ Bravo\",\"Imran Tahir\",\"SN Thakur\",\"DJ Bravo\",\"SR Watson\",\"DJ Bravo\",\"SN Thakur\"]\n",
    "\n",
    "m5_t1_bat = [\"CA Lynn\",\"SP Narine\",\"RV Uthappa\",\"N Rana\",\"KD Karthik\",\"RK Singh\",\"AD Russell\",\"TK Curran\",\"R Vinay Kumar\",\"Kuldeep Yadav\",\"PP Chawla\"]"
   ]
  },
  {
   "cell_type": "code",
   "execution_count": 45,
   "metadata": {},
   "outputs": [
    {
     "name": "stdout",
     "output_type": "stream",
     "text": [
      "[1, 4, 2, 1, 4, 1, 1, 1, 1, 1, 0, 1, 2, 1, 2, 1, 0, 0, 0, 0, 0, 2, 'SP Narine', 1, 4, 2, 2, 1, 0, 'CA Lynn', 0, 1, 4, 1, 1, 6, 3, 0, 3, 4, 1, 1, 0, 3, 6, 2, 3, 3, 1, 1, 4, 'N Rana', 6, 4, 0, 'RV Uthappa', 4, 2, 6, 0, 4, 1, 0, 3, 1, 0, 2, 4, 4, 6, 1, 0, 'KD Karthik', 3, 0, 'RK Singh', 0, 0, 4, 1, 1, 1, 1, 1, 3, 0, 1, 1, 1, 1, 1, 1, 1, 6, 'TK Curran', 4, 1, 4, 0, 2, 0, 1, 0, 1, 6, 'AD Russell', 2, 0, 0, 0, 1, 1, 0, 'R Vinay Kumar', 0, 1, 1, 0, 0, 0, 1, 1, 1, 1, 0, 4, 1, 1, 2, 4, 1, 1, 1, 'Kuldeep Yadav', 4, 4, 0, 0, 'PP Chawla', 4, 0, 0, 6, 4, 'SK Raina', 3, 0, 6, 0, 0, 1, 4, 0, 3, 4, 0, 'MS Dhoni', 0, 0, 0, 4, 4, 0, 4, 0, 0, 1, 3, 0, 0, 0, 6, 1, 2, 2, 0, 2, 'RA Jadeja', 0, 0, 2, 6, 2, 'SW Billings', 1, 6, 1, 1, 0, 3, 6, 1, 4, 0, 0, 0, 0, 0, 1, 6, 'DJ Bravo', 4, 4, 0, 0, 1, 1, 4, 1, 0, 0, 1, 1, 0, 1, 1, 1, 'DL Chahar', 3, 4, 6, 'Harbhajan Singh', 0, 1, 0, 6, 1, 1, 1, 0, 4, 1, 2, 4, 0, 2]\n",
      "Number of balls:  236\n",
      "Team 1: 185/9\tTeam 2: 187/9\n"
     ]
    },
    {
     "data": {
      "text/plain": [
       "'Team 2'"
      ]
     },
     "execution_count": 45,
     "metadata": {},
     "output_type": "execute_result"
    }
   ],
   "source": [
    "matchSimulation(m5_t1_bat, m5_t1_bowl, m5_t2_bat, m5_t2_bowl)"
   ]
  },
  {
   "cell_type": "code",
   "execution_count": null,
   "metadata": {
    "collapsed": true
   },
   "outputs": [],
   "source": []
  }
 ],
 "metadata": {
  "kernelspec": {
   "display_name": "Python 3",
   "language": "python",
   "name": "python3"
  },
  "language_info": {
   "codemirror_mode": {
    "name": "ipython",
    "version": 3
   },
   "file_extension": ".py",
   "mimetype": "text/x-python",
   "name": "python",
   "nbconvert_exporter": "python",
   "pygments_lexer": "ipython3",
   "version": "3.6.7"
  }
 },
 "nbformat": 4,
 "nbformat_minor": 2
}
